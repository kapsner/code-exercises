{
  "cells": [
    {
      "cell_type": "markdown",
      "source": [
        "# Lösungen Aufgaben Bayes-Theorem\n",
        "\n",
        "Die Formel des Bayes-Theorems lautet:\n",
        "\n",
        "$$P(Y|X) = \\frac{P(Y \\cap X)}{P(X)} = \\frac{P(X \\cap Y)}{P(X)} = \\frac{ P(X|Y) \\cdot P(Y)}{P(X)}$$\n",
        "\n",
        "$$= \\frac{ P(X|Y) \\cdot P(Y)}{P(X | Y) \\cdot P(Y) + P(X | Y^C) \\cdot P(Y^C)}$$"
      ],
      "metadata": {
        "id": "EOw115Tb5oii"
      },
      "id": "EOw115Tb5oii"
    },
    {
      "cell_type": "code",
      "source": [
        "# Definition einer Funktion zur Berechnung des Bayes-Theorems\n",
        "def bayes_rule(p_xy, p_y, p_x):\n",
        "  return round(((p_xy * p_y) / p_x) * 100 , 2)"
      ],
      "metadata": {
        "id": "toBbQ2jk507B"
      },
      "id": "toBbQ2jk507B",
      "execution_count": 3,
      "outputs": []
    },
    {
      "cell_type": "markdown",
      "source": [
        "## Regentag in Köln"
      ],
      "metadata": {
        "id": "IALTJDVa51R4"
      },
      "id": "IALTJDVa51R4"
    },
    {
      "cell_type": "code",
      "execution_count": 4,
      "id": "34ced9f4",
      "metadata": {
        "id": "34ced9f4",
        "outputId": "7b2ede7e-5237-4489-bbf1-c94347cc8cb3",
        "colab": {
          "base_uri": "https://localhost:8080/"
        }
      },
      "outputs": [
        {
          "output_type": "execute_result",
          "data": {
            "text/plain": [
              "50.17"
            ]
          },
          "metadata": {},
          "execution_count": 4
        }
      ],
      "source": [
        "# Prior P(Y)\n",
        "prior = 206 / 365\n",
        "\n",
        "# P(X)\n",
        "p_x = 9 / 10\n",
        "\n",
        "# P(X | Y)\n",
        "p_x_given_y = 4 / 5\n",
        "\n",
        "# Anwendung der Funktion\n",
        "bayes_rule(\n",
        "    p_xy=p_x_given_y,\n",
        "  \tp_y=prior,\n",
        "  \tp_x=p_x\n",
        ")"
      ]
    }
  ],
  "metadata": {
    "language_info": {
      "name": "python"
    },
    "colab": {
      "provenance": []
    },
    "kernelspec": {
      "name": "python3",
      "display_name": "Python 3"
    }
  },
  "nbformat": 4,
  "nbformat_minor": 5
}