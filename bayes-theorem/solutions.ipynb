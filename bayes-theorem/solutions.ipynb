{
  "cells": [
    {
      "cell_type": "markdown",
      "source": [
        "# Lösungen Aufgaben Bayes-Theorem\n",
        "\n",
        "Die Formel des Bayes-Theorems lautet:\n",
        "\n",
        "$$P(Y|X) = \\frac{P(Y \\cap X)}{P(X)} = \\frac{P(X \\cap Y)}{P(X)} = \\frac{ P(X|Y) \\cdot P(Y)}{P(X)}$$\n",
        "\n",
        "$$= \\frac{ P(X|Y) \\cdot P(Y)}{P(X | Y) \\cdot P(Y) + P(X | Y^C) \\cdot P(Y^C)}$$"
      ],
      "metadata": {
        "id": "EOw115Tb5oii"
      },
      "id": "EOw115Tb5oii"
    },
    {
      "cell_type": "code",
      "source": [
        "# Definition einer Funktion zur Berechnung des Bayes-Theorems\n",
        "def bayes_rule(p_xy, p_y, p_x):\n",
        "  return ((p_xy * p_y) / p_x)\n",
        "\n",
        "# Definition einer Funktion zur Berechung der vier Felder einer Vier-Felder-Tafel\n",
        "def contingency_matrix(prior, prior_c, sensitivity, specificity, n):\n",
        "  # Erkrankt und positives Testergebnis (richtig positiv)\n",
        "  tp = int(round(sensitivity * prior * n, 0))\n",
        "  print(\"TP: \", tp)\n",
        "\n",
        "  # Gesund und negatives Testergebnis (richtig negativ)\n",
        "  tn = int(round(specificity * prior_c * n, 0))\n",
        "  print(\"TN: \", tn)\n",
        "\n",
        "  # Gesund und positives Testergebnis (falsch positiv)\n",
        "  fp = int(round(prior_c * n - tn, 0))\n",
        "  print(\"FP: \", fp)\n",
        "\n",
        "  # Erkrankung und negatives Testergebnis (falsch negativ)\n",
        "  fn = int(round(prior * n - tp, 0))\n",
        "  print(\"FN: \", fn)\n",
        "\n",
        "  return tp, tn, fp, fn"
      ],
      "metadata": {
        "id": "toBbQ2jk507B"
      },
      "id": "toBbQ2jk507B",
      "execution_count": null,
      "outputs": []
    },
    {
      "cell_type": "markdown",
      "source": [
        "## Regentag in Köln"
      ],
      "metadata": {
        "id": "IALTJDVa51R4"
      },
      "id": "IALTJDVa51R4"
    },
    {
      "cell_type": "code",
      "execution_count": null,
      "id": "34ced9f4",
      "metadata": {
        "id": "34ced9f4"
      },
      "outputs": [],
      "source": [
        "# Prior P(Y)\n",
        "prior = 206 / 365\n",
        "\n",
        "# P(X)\n",
        "p_x = 7 / 10\n",
        "\n",
        "# P(X | Y)\n",
        "p_x_given_y = 4 / 5\n",
        "\n",
        "# Anwendung der Funktion\n",
        "bayes_rule(\n",
        "    p_xy=p_x_given_y,\n",
        "  \tp_y=prior,\n",
        "  \tp_x=p_x\n",
        ")"
      ]
    },
    {
      "cell_type": "code",
      "source": [
        "# Grundgesamtheit\n",
        "n = 1000000000000 # 10^12\n",
        "\n",
        "# Prior P(Y)\n",
        "prior = 206 / 365\n",
        "\n",
        "# Prior Gegenereignis P(Y^C)\n",
        "prior_c = 1 - prior\n",
        "\n",
        "# Sensitivität = P(X | Y)\n",
        "sensitivity = 0.8\n",
        "\n",
        "# Spezifität\n",
        "p_x = 0.7\n",
        "TN = n * prior_c - (n * p_x - (n * prior * sensitivity))\n",
        "specificity = TN / (prior_c * n)\n",
        "\n",
        "# Berechung der vier Felder einer Vier-Felder-Tafel\n",
        "tp, tn, fp, fn = contingency_matrix(prior, prior_c, sensitivity, specificity, n)\n",
        "\n",
        "# Aufgabe: P(Y | X)\n",
        "\n",
        "# Anwendung der Funktion\n",
        "bayes_rule(\n",
        "    p_xy=sensitivity,\n",
        "  \tp_y=prior,\n",
        "  \tp_x=p_x\n",
        ")"
      ],
      "metadata": {
        "id": "FASr-71erxXl"
      },
      "id": "FASr-71erxXl",
      "execution_count": null,
      "outputs": []
    },
    {
      "cell_type": "markdown",
      "source": [
        "## Hautkrebsscreening"
      ],
      "metadata": {
        "id": "fZS3ZIKn7F7G"
      },
      "id": "fZS3ZIKn7F7G"
    },
    {
      "cell_type": "code",
      "source": [
        "# Grundgesamtheit\n",
        "n = 1000000\n",
        "\n",
        "# Prior P(Y)\n",
        "prior = 170 / n\n",
        "\n",
        "# Prior Gegenereignis P(Y^C)\n",
        "prior_c = 1 - prior\n",
        "\n",
        "# Sensitivität\n",
        "sensitivity = 0.9\n",
        "\n",
        "# Spezifität\n",
        "specificity = 0.9\n",
        "\n",
        "# Berechung der vier Felder einer Vier-Felder-Tafel\n",
        "tp, tn, fp, fn = contingency_matrix(prior, prior_c, sensitivity, specificity, n)\n",
        "\n",
        "# Aufgabe: P(Y^C | X^C)\n",
        "\n",
        "# P(X^C)\n",
        "p_xc = (fn + tn) / n\n",
        "\n",
        "# P(X^C | Y^C)\n",
        "p_xcyc = tn / (tn + fp)\n",
        "\n",
        "\n",
        "# Anwendung der Funktion\n",
        "bayes_rule(\n",
        "    p_xy=p_xcyc,\n",
        "  \tp_y=prior_c,\n",
        "  \tp_x=p_xc\n",
        ")"
      ],
      "metadata": {
        "id": "T2sHNfTS7Ige"
      },
      "id": "T2sHNfTS7Ige",
      "execution_count": null,
      "outputs": []
    },
    {
      "cell_type": "markdown",
      "source": [
        "## Blasenentzündung"
      ],
      "metadata": {
        "id": "HEXq2SzFAwrW"
      },
      "id": "HEXq2SzFAwrW"
    },
    {
      "cell_type": "code",
      "source": [
        "# Grundgesamtheit\n",
        "n = 100000\n",
        "\n",
        "# Prior P(Y)\n",
        "prior = 63000 / n\n",
        "\n",
        "# Prior Gegenereignis P(Y^C)\n",
        "prior_c = 1 - prior\n",
        "\n",
        "# Sensitivität\n",
        "sensitivity = 0.84\n",
        "\n",
        "# Spezifität\n",
        "specificity = 0.45\n",
        "\n",
        "# Berechung der vier Felder einer Vier-Felder-Tafel\n",
        "tp, tn, fp, fn = contingency_matrix(prior, prior_c, sensitivity, specificity, n)\n",
        "\n",
        "# Aufgabe: P(Y^C | X)\n",
        "\n",
        "# P(X)\n",
        "p_x = (tp + fp) / n\n",
        "\n",
        "# P(X | Y^C)\n",
        "p_xyc = fp / (fp + tn)\n",
        "\n",
        "\n",
        "# Anwendung der Funktion\n",
        "bayes_rule(\n",
        "    p_xy=p_xyc,\n",
        "  \tp_y=prior_c,\n",
        "  \tp_x=p_x\n",
        ")"
      ],
      "metadata": {
        "id": "KD7h8rS-AwzI"
      },
      "id": "KD7h8rS-AwzI",
      "execution_count": null,
      "outputs": []
    },
    {
      "cell_type": "code",
      "source": [
        "# P(X|Y)\n",
        "p_x_given_y = tp / (tp + fn)\n",
        "\n",
        "# P(Cystits | T+)\n",
        "bayes_rule(\n",
        "    p_xy=p_x_given_y,\n",
        "    p_y=prior,\n",
        "    p_x=p_x\n",
        ")"
      ],
      "metadata": {
        "id": "cVOobgzgBsPv"
      },
      "id": "cVOobgzgBsPv",
      "execution_count": null,
      "outputs": []
    },
    {
      "cell_type": "code",
      "source": [
        "# P(Cystitis^C | T-)\n",
        "p_xc_given_yc = tn / (tn + fp)\n",
        "p_xc = (tn + fn) / n\n",
        "bayes_rule(\n",
        "    p_xy=p_xc_given_yc,\n",
        "    p_y=prior_c,\n",
        "    p_x=p_xc\n",
        ")"
      ],
      "metadata": {
        "id": "Y5DibsrsB4Jy"
      },
      "id": "Y5DibsrsB4Jy",
      "execution_count": null,
      "outputs": []
    },
    {
      "cell_type": "markdown",
      "source": [
        "## Lungenembolie"
      ],
      "metadata": {
        "id": "fDlKblTeCAyG"
      },
      "id": "fDlKblTeCAyG"
    },
    {
      "cell_type": "code",
      "source": [
        "# Grundgesamtheit\n",
        "n = 1000000\n",
        "\n",
        "# Prior P(Y)\n",
        "prior = 2000 / n\n",
        "\n",
        "# Prior Gegenereignis P(Y^C)\n",
        "prior_c = 1 - prior\n",
        "\n",
        "# Sensitivität\n",
        "sensitivity = 0.98\n",
        "\n",
        "# Spezifität\n",
        "specificity = 0.63\n",
        "\n",
        "# Berechung der vier Felder einer Vier-Felder-Tafel\n",
        "tp, tn, fp, fn = contingency_matrix(prior, prior_c, sensitivity, specificity, n)\n",
        "\n",
        "# Aufgabe: P(Y | X)\n",
        "\n",
        "# P(X)\n",
        "p_x = (tp + fp) / n\n",
        "\n",
        "# P(X | Y)\n",
        "p_xy = tp / (tp + fn)\n",
        "\n",
        "\n",
        "# Anwendung der Funktion\n",
        "bayes_rule(\n",
        "    p_xy=p_xy,\n",
        "  \tp_y=prior,\n",
        "  \tp_x=p_x\n",
        ")"
      ],
      "metadata": {
        "id": "hC1JL6ESCJmC"
      },
      "id": "hC1JL6ESCJmC",
      "execution_count": null,
      "outputs": []
    },
    {
      "cell_type": "markdown",
      "source": [
        "## Lungenembolie (Setting 2)"
      ],
      "metadata": {
        "id": "MKhL5AwTEZCd"
      },
      "id": "MKhL5AwTEZCd"
    },
    {
      "cell_type": "code",
      "source": [
        "# Grundgesamtheit\n",
        "n = 10000\n",
        "\n",
        "# Prävalenz\n",
        "prevalence = 0.35\n",
        "\n",
        "# Prior P(Y)\n",
        "prior = prevalence\n",
        "\n",
        "# Prior Gegenereignis P(Y^C)\n",
        "prior_c = 1 - prior\n",
        "\n",
        "# Sensitivität\n",
        "sensitivity = 0.98\n",
        "\n",
        "# Spezifität\n",
        "specificity = 0.63\n",
        "\n",
        "# Berechung der vier Felder einer Vier-Felder-Tafel\n",
        "tp, tn, fp, fn = contingency_matrix(prior, prior_c, sensitivity, specificity, n)\n",
        "\n",
        "# Aufgabe: P(Y | X)\n",
        "\n",
        "# P(X)\n",
        "p_x = (tp + fp) / n\n",
        "\n",
        "# P(X | Y)\n",
        "p_xy = tp / (tp + fn)\n",
        "\n",
        "\n",
        "# Anwendung der Funktion\n",
        "bayes_rule(\n",
        "    p_xy=p_xy,\n",
        "  \tp_y=prior,\n",
        "  \tp_x=p_x\n",
        ")"
      ],
      "metadata": {
        "id": "HirPBnOwEbts"
      },
      "id": "HirPBnOwEbts",
      "execution_count": null,
      "outputs": []
    },
    {
      "cell_type": "markdown",
      "source": [
        "## Brustkrebsvorsorge"
      ],
      "metadata": {
        "id": "SXdkU3bpEPY3"
      },
      "id": "SXdkU3bpEPY3"
    },
    {
      "cell_type": "code",
      "source": [
        "# Grundgesamtheit\n",
        "n = 1000\n",
        "\n",
        "# Prävalenz\n",
        "prevalence = 0.05\n",
        "\n",
        "# Prior P(Y)\n",
        "prior = prevalence\n",
        "\n",
        "# Prior Gegenereignis P(Y^C)\n",
        "prior_c = 1 - prior\n",
        "\n",
        "# Sensitivität\n",
        "sensitivity = 0.80\n",
        "\n",
        "# Spezifität\n",
        "specificity = 1 - 0.1\n",
        "\n",
        "# Berechung der vier Felder einer Vier-Felder-Tafel\n",
        "tp, tn, fp, fn = contingency_matrix(prior, prior_c, sensitivity, specificity, n)\n",
        "\n",
        "# Aufgabe: P(Y | X)\n",
        "\n",
        "# P(X)\n",
        "p_x = (tp + fp) / n\n",
        "\n",
        "# P(X | Y)\n",
        "p_xy = tp / (tp + fn)\n",
        "\n",
        "\n",
        "# Anwendung der Funktion\n",
        "bayes_rule(\n",
        "    p_xy=p_xy,\n",
        "  \tp_y=prior,\n",
        "  \tp_x=p_x\n",
        ")"
      ],
      "metadata": {
        "id": "Yjptxg-UERrt"
      },
      "id": "Yjptxg-UERrt",
      "execution_count": null,
      "outputs": []
    },
    {
      "cell_type": "markdown",
      "source": [
        "## Spamfilter"
      ],
      "metadata": {
        "id": "P4HepAeXIODC"
      },
      "id": "P4HepAeXIODC"
    },
    {
      "cell_type": "code",
      "source": [
        "# Definition einer Funktion zur Berechnung des Bayes-Theorems ohne Vorliegen der\n",
        "# totalen Wahrscheinlichkeit für P(X)\n",
        "def bayes_rule2(p_xy, p_y):\n",
        "  return ((p_xy * p_y) / ((p_xy * p_y) + ((1 - p_xy) * (1 - p_y))))"
      ],
      "metadata": {
        "id": "YcINCOFQIPUV"
      },
      "id": "YcINCOFQIPUV",
      "execution_count": null,
      "outputs": []
    },
    {
      "cell_type": "code",
      "source": [
        "# Prior P(Y)\n",
        "prior = 0.5\n",
        "\n",
        "# Wahrscheinlichkeitsverhältnis (likelihood-ratio = LR)\n",
        "lr = 5.1\n",
        "\n",
        "# P(X | Y)\n",
        "p_xy = (lr / (1 + lr))\n",
        "\n",
        "\n",
        "# Anwendung der Funktion\n",
        "bayes_rule2(\n",
        "    p_xy=p_xy,\n",
        "  \tp_y=prior\n",
        ")"
      ],
      "metadata": {
        "id": "DgvIi7_NI2kv"
      },
      "id": "DgvIi7_NI2kv",
      "execution_count": null,
      "outputs": []
    },
    {
      "cell_type": "code",
      "source": [
        "# Prior P(Y)\n",
        "prior = 0.7\n",
        "\n",
        "# Wahrscheinlichkeitsverhältnis (likelihood-ratio = LR)\n",
        "lr = 5.1 * 0.8 * 53.2 * 0.3\n",
        "\n",
        "# P(X | Y)\n",
        "p_xy = (lr / (1 + lr))\n",
        "\n",
        "\n",
        "# Anwendung der Funktion\n",
        "bayes_rule2(\n",
        "    p_xy=p_xy,\n",
        "  \tp_y=prior\n",
        ")"
      ],
      "metadata": {
        "id": "hneNaAByJb1D"
      },
      "id": "hneNaAByJb1D",
      "execution_count": null,
      "outputs": []
    }
  ],
  "metadata": {
    "language_info": {
      "name": "python"
    },
    "colab": {
      "provenance": []
    },
    "kernelspec": {
      "name": "python3",
      "display_name": "Python 3"
    }
  },
  "nbformat": 4,
  "nbformat_minor": 5
}