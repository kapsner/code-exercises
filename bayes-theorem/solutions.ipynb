{
  "cells": [
    {
      "cell_type": "markdown",
      "source": [
        "# Lösungen Aufgaben Bayes-Theorem\n",
        "\n",
        "Die Formel des Bayes-Theorems lautet:\n",
        "\n",
        "$$P(Y|X) = \\frac{P(Y \\cap X)}{P(X)} = \\frac{P(X \\cap Y)}{P(X)} = \\frac{ P(X|Y) \\cdot P(Y)}{P(X)}$$\n",
        "\n",
        "$$= \\frac{ P(X|Y) \\cdot P(Y)}{P(X | Y) \\cdot P(Y) + P(X | Y^C) \\cdot P(Y^C)}$$"
      ],
      "metadata": {
        "id": "EOw115Tb5oii"
      },
      "id": "EOw115Tb5oii"
    },
    {
      "cell_type": "code",
      "source": [
        "# Definition einer Funktion zur Berechnung des Bayes-Theorems\n",
        "def bayes_rule(p_xy, p_y, p_x):\n",
        "  return ((p_xy * p_y) / p_x)\n",
        "\n",
        "# Definition einer Funktion zur Berechung der vier Felder einer Vier-Felder-Tafel\n",
        "def contingency_matrix(prior, prior_c, sensitivity, specificity, n):\n",
        "  # Erkrankt und positives Testergebnis (richtig positiv)\n",
        "  tp = int(round(sensitivity * prior * n, 0))\n",
        "  print(\"TP: \", tp)\n",
        "\n",
        "  # Gesund und negatives Testergebnis (richtig negativ)\n",
        "  tn = int(round(specificity * prior_c * n, 0))\n",
        "  print(\"TN: \", tn)\n",
        "\n",
        "  # Gesund und positives Testergebnis (falsch positiv)\n",
        "  fp = int(round(prior_c * n - tn, 0))\n",
        "  print(\"FP: \", fp)\n",
        "\n",
        "  # Erkrankung und negatives Testergebnis (falsch negativ)\n",
        "  fn = int(round(prior * n - tp, 0))\n",
        "  print(\"FN: \", fn)\n",
        "\n",
        "  return tp, tn, fp, fn"
      ],
      "metadata": {
        "id": "toBbQ2jk507B"
      },
      "id": "toBbQ2jk507B",
      "execution_count": 11,
      "outputs": []
    },
    {
      "cell_type": "markdown",
      "source": [
        "## Regentag in Köln"
      ],
      "metadata": {
        "id": "IALTJDVa51R4"
      },
      "id": "IALTJDVa51R4"
    },
    {
      "cell_type": "code",
      "execution_count": 8,
      "id": "34ced9f4",
      "metadata": {
        "colab": {
          "base_uri": "https://localhost:8080/"
        },
        "id": "34ced9f4",
        "outputId": "1996a114-a488-4391-8d90-fc2e131aaced"
      },
      "outputs": [
        {
          "output_type": "execute_result",
          "data": {
            "text/plain": [
              "0.5016742770167428"
            ]
          },
          "metadata": {},
          "execution_count": 8
        }
      ],
      "source": [
        "# Prior P(Y)\n",
        "prior = 206 / 365\n",
        "\n",
        "# P(X)\n",
        "p_x = 9 / 10\n",
        "\n",
        "# P(X | Y)\n",
        "p_x_given_y = 4 / 5\n",
        "\n",
        "# Anwendung der Funktion\n",
        "bayes_rule(\n",
        "    p_xy=p_x_given_y,\n",
        "  \tp_y=prior,\n",
        "  \tp_x=p_x\n",
        ")"
      ]
    },
    {
      "cell_type": "markdown",
      "source": [
        "## Hautkrebsscreening"
      ],
      "metadata": {
        "id": "fZS3ZIKn7F7G"
      },
      "id": "fZS3ZIKn7F7G"
    },
    {
      "cell_type": "code",
      "source": [
        "# Grundgesamtheit\n",
        "n = 1000000\n",
        "\n",
        "# Prior P(Y)\n",
        "prior = 170 / n\n",
        "\n",
        "# Prior Gegenereignis P(Y^C)\n",
        "prior_c = 1 - prior\n",
        "\n",
        "# Sensitivität\n",
        "sensitivity = 0.9\n",
        "\n",
        "# Spezifität\n",
        "specificity = 0.9\n",
        "\n",
        "# Berechung der vier Felder einer Vier-Felder-Tafel\n",
        "tp, tn, fp, fn = contingency_matrix(prior, prior_c, sensitivity, specificity, n)\n",
        "\n",
        "# Aufgabe: P(Y^C | X^C)\n",
        "\n",
        "# P(X^C)\n",
        "p_xc = (fn + tn) / n\n",
        "\n",
        "# P(X^C | Y^C)\n",
        "p_xcyc = tn / (tn + fp)\n",
        "\n",
        "\n",
        "# Anwendung der Funktion\n",
        "bayes_rule(\n",
        "    p_xy=p_xcyc,\n",
        "  \tp_y=prior_c,\n",
        "  \tp_x=p_xc\n",
        ")"
      ],
      "metadata": {
        "id": "T2sHNfTS7Ige",
        "outputId": "19157fb7-68b6-4f91-e104-449f26501d21",
        "colab": {
          "base_uri": "https://localhost:8080/"
        }
      },
      "id": "T2sHNfTS7Ige",
      "execution_count": 12,
      "outputs": [
        {
          "output_type": "stream",
          "name": "stdout",
          "text": [
            "TP:  153\n",
            "TN:  899847\n",
            "FP:  99983\n",
            "FN:  17\n"
          ]
        },
        {
          "output_type": "execute_result",
          "data": {
            "text/plain": [
              "0.9999811082563588"
            ]
          },
          "metadata": {},
          "execution_count": 12
        }
      ]
    },
    {
      "cell_type": "markdown",
      "source": [
        "## Blasenentzündung"
      ],
      "metadata": {
        "id": "HEXq2SzFAwrW"
      },
      "id": "HEXq2SzFAwrW"
    },
    {
      "cell_type": "code",
      "source": [
        "# Grundgesamtheit\n",
        "n = 100000\n",
        "\n",
        "# Prior P(Y)\n",
        "prior = 63000 / n\n",
        "\n",
        "# Prior Gegenereignis P(Y^C)\n",
        "prior_c = 1 - prior\n",
        "\n",
        "# Sensitivität\n",
        "sensitivity = 0.84\n",
        "\n",
        "# Spezifität\n",
        "specificity = 0.45\n",
        "\n",
        "# Berechung der vier Felder einer Vier-Felder-Tafel\n",
        "tp, tn, fp, fn = contingency_matrix(prior, prior_c, sensitivity, specificity, n)\n",
        "\n",
        "# Aufgabe: P(Y^C | X)\n",
        "\n",
        "# P(X)\n",
        "p_x = (tp + fp) / n\n",
        "\n",
        "# P(X | Y^C)\n",
        "p_xyc = fp / (fp + tn)\n",
        "\n",
        "\n",
        "# Anwendung der Funktion\n",
        "bayes_rule(\n",
        "    p_xy=p_xyc,\n",
        "  \tp_y=prior_c,\n",
        "  \tp_x=p_x\n",
        ")"
      ],
      "metadata": {
        "id": "KD7h8rS-AwzI",
        "outputId": "9e736e87-6d4d-4a84-f127-dbb3362be7c2",
        "colab": {
          "base_uri": "https://localhost:8080/"
        }
      },
      "id": "KD7h8rS-AwzI",
      "execution_count": 13,
      "outputs": [
        {
          "output_type": "stream",
          "name": "stdout",
          "text": [
            "TP:  52920\n",
            "TN:  16650\n",
            "FP:  20350\n",
            "FN:  10080\n"
          ]
        },
        {
          "output_type": "execute_result",
          "data": {
            "text/plain": [
              "0.2777398662481234"
            ]
          },
          "metadata": {},
          "execution_count": 13
        }
      ]
    },
    {
      "cell_type": "code",
      "source": [
        "# P(X|Y)\n",
        "p_x_given_y = tp / (tp + fn)\n",
        "\n",
        "# P(Cystits | T+)\n",
        "bayes_rule(\n",
        "    p_xy=p_x_given_y,\n",
        "    p_y=prior,\n",
        "    p_x=p_x\n",
        ")"
      ],
      "metadata": {
        "id": "cVOobgzgBsPv",
        "outputId": "d031d3b9-96b6-40e4-e99c-65eace94e28d",
        "colab": {
          "base_uri": "https://localhost:8080/"
        }
      },
      "id": "cVOobgzgBsPv",
      "execution_count": 14,
      "outputs": [
        {
          "output_type": "execute_result",
          "data": {
            "text/plain": [
              "0.7222601337518766"
            ]
          },
          "metadata": {},
          "execution_count": 14
        }
      ]
    },
    {
      "cell_type": "code",
      "source": [
        "# P(Cystitis^C | T-)\n",
        "p_xc_given_yc = tn / (tn + fp)\n",
        "p_xc = (tn + fn) / n\n",
        "bayes_rule(\n",
        "    p_xy=p_xc_given_yc,\n",
        "    p_y=prior_c,\n",
        "    p_x=p_xc\n",
        ")"
      ],
      "metadata": {
        "id": "Y5DibsrsB4Jy",
        "outputId": "4792bda6-7911-43f8-e576-74739192860e",
        "colab": {
          "base_uri": "https://localhost:8080/"
        }
      },
      "id": "Y5DibsrsB4Jy",
      "execution_count": 15,
      "outputs": [
        {
          "output_type": "execute_result",
          "data": {
            "text/plain": [
              "0.622895622895623"
            ]
          },
          "metadata": {},
          "execution_count": 15
        }
      ]
    },
    {
      "cell_type": "markdown",
      "source": [
        "## Lungenembolie"
      ],
      "metadata": {
        "id": "fDlKblTeCAyG"
      },
      "id": "fDlKblTeCAyG"
    },
    {
      "cell_type": "code",
      "source": [
        "# Grundgesamtheit\n",
        "n = 1000000\n",
        "\n",
        "# Prior P(Y)\n",
        "prior = 2000 / n\n",
        "\n",
        "# Prior Gegenereignis P(Y^C)\n",
        "prior_c = 1 - prior\n",
        "\n",
        "# Sensitivität\n",
        "sensitivity = 0.98\n",
        "\n",
        "# Spezifität\n",
        "specificity = 0.63\n",
        "\n",
        "# Berechung der vier Felder einer Vier-Felder-Tafel\n",
        "tp, tn, fp, fn = contingency_matrix(prior, prior_c, sensitivity, specificity, n)\n",
        "\n",
        "# Aufgabe: P(Y | X)\n",
        "\n",
        "# P(X)\n",
        "p_x = (tp + fp) / n\n",
        "\n",
        "# P(X | Y)\n",
        "p_xy = tp / (tp + fn)\n",
        "\n",
        "\n",
        "# Anwendung der Funktion\n",
        "bayes_rule(\n",
        "    p_xy=p_xy,\n",
        "  \tp_y=prior,\n",
        "  \tp_x=p_x\n",
        ")"
      ],
      "metadata": {
        "id": "hC1JL6ESCJmC",
        "outputId": "a4eae198-78b3-4d36-c3e5-4e720385e795",
        "colab": {
          "base_uri": "https://localhost:8080/"
        }
      },
      "id": "hC1JL6ESCJmC",
      "execution_count": 21,
      "outputs": [
        {
          "output_type": "stream",
          "name": "stdout",
          "text": [
            "TP:  1960\n",
            "TN:  628740\n",
            "FP:  369260\n",
            "FN:  40\n"
          ]
        },
        {
          "output_type": "execute_result",
          "data": {
            "text/plain": [
              "0.005279887937072356"
            ]
          },
          "metadata": {},
          "execution_count": 21
        }
      ]
    },
    {
      "cell_type": "markdown",
      "source": [
        "## Lungenembolie (Setting 2)"
      ],
      "metadata": {
        "id": "MKhL5AwTEZCd"
      },
      "id": "MKhL5AwTEZCd"
    },
    {
      "cell_type": "code",
      "source": [
        "# Grundgesamtheit\n",
        "n = 10000\n",
        "\n",
        "# Prävalenz\n",
        "prevalence = 0.35\n",
        "\n",
        "# Prior P(Y)\n",
        "prior = prevalence\n",
        "\n",
        "# Prior Gegenereignis P(Y^C)\n",
        "prior_c = 1 - prior\n",
        "\n",
        "# Sensitivität\n",
        "sensitivity = 0.98\n",
        "\n",
        "# Spezifität\n",
        "specificity = 0.63\n",
        "\n",
        "# Berechung der vier Felder einer Vier-Felder-Tafel\n",
        "tp, tn, fp, fn = contingency_matrix(prior, prior_c, sensitivity, specificity, n)\n",
        "\n",
        "# Aufgabe: P(Y | X)\n",
        "\n",
        "# P(X)\n",
        "p_x = (tp + fp) / n\n",
        "\n",
        "# P(X | Y)\n",
        "p_xy = tp / (tp + fn)\n",
        "\n",
        "\n",
        "# Anwendung der Funktion\n",
        "bayes_rule(\n",
        "    p_xy=p_xy,\n",
        "  \tp_y=prior,\n",
        "  \tp_x=p_x\n",
        ")"
      ],
      "metadata": {
        "id": "HirPBnOwEbts",
        "outputId": "b1be4ec9-b389-4357-d8aa-c9e05d371110",
        "colab": {
          "base_uri": "https://localhost:8080/"
        }
      },
      "id": "HirPBnOwEbts",
      "execution_count": 24,
      "outputs": [
        {
          "output_type": "stream",
          "name": "stdout",
          "text": [
            "TP:  3430\n",
            "TN:  4095\n",
            "FP:  2405\n",
            "FN:  70\n"
          ]
        },
        {
          "output_type": "execute_result",
          "data": {
            "text/plain": [
              "0.5878320479862895"
            ]
          },
          "metadata": {},
          "execution_count": 24
        }
      ]
    },
    {
      "cell_type": "markdown",
      "source": [
        "## Brustkrebsvorsorge"
      ],
      "metadata": {
        "id": "SXdkU3bpEPY3"
      },
      "id": "SXdkU3bpEPY3"
    },
    {
      "cell_type": "code",
      "source": [
        "# Grundgesamtheit\n",
        "n = 1000\n",
        "\n",
        "# Prävalenz\n",
        "prevalence = 0.05\n",
        "\n",
        "# Prior P(Y)\n",
        "prior = prevalence\n",
        "\n",
        "# Prior Gegenereignis P(Y^C)\n",
        "prior_c = 1 - prior\n",
        "\n",
        "# Sensitivität\n",
        "sensitivity = 0.60\n",
        "\n",
        "# Spezifität\n",
        "specificity = 1 - 0.1\n",
        "\n",
        "# Berechung der vier Felder einer Vier-Felder-Tafel\n",
        "tp, tn, fp, fn = contingency_matrix(prior, prior_c, sensitivity, specificity, n)\n",
        "\n",
        "# Aufgabe: P(Y | X)\n",
        "\n",
        "# P(X)\n",
        "p_x = (tp + fp) / n\n",
        "\n",
        "# P(X | Y)\n",
        "p_xy = tp / (tp + fn)\n",
        "\n",
        "\n",
        "# Anwendung der Funktion\n",
        "bayes_rule(\n",
        "    p_xy=p_xy,\n",
        "  \tp_y=prior,\n",
        "  \tp_x=p_x\n",
        ")"
      ],
      "metadata": {
        "id": "Yjptxg-UERrt",
        "outputId": "2473dadb-db2b-44b1-ec69-0e5093375eda",
        "colab": {
          "base_uri": "https://localhost:8080/"
        }
      },
      "id": "Yjptxg-UERrt",
      "execution_count": 26,
      "outputs": [
        {
          "output_type": "stream",
          "name": "stdout",
          "text": [
            "TP:  30\n",
            "TN:  855\n",
            "FP:  95\n",
            "FN:  20\n"
          ]
        },
        {
          "output_type": "execute_result",
          "data": {
            "text/plain": [
              "0.24"
            ]
          },
          "metadata": {},
          "execution_count": 26
        }
      ]
    },
    {
      "cell_type": "markdown",
      "source": [
        "## Spamfilter"
      ],
      "metadata": {
        "id": "P4HepAeXIODC"
      },
      "id": "P4HepAeXIODC"
    },
    {
      "cell_type": "code",
      "source": [
        "# Definition einer Funktion zur Berechnung des Bayes-Theorems ohne Vorliegen der\n",
        "# totalen Wahrscheinlichkeit für P(X)\n",
        "def bayes_rule2(p_xy, p_y):\n",
        "  return ((p_xy * p_y) / ((p_xy * p_y) + ((1 - p_xy) * (1 - p_y))))"
      ],
      "metadata": {
        "id": "YcINCOFQIPUV"
      },
      "id": "YcINCOFQIPUV",
      "execution_count": 27,
      "outputs": []
    },
    {
      "cell_type": "code",
      "source": [
        "# Prior P(Y)\n",
        "prior = 0.5\n",
        "\n",
        "# Wahrscheinlichkeitsverhältnis (likelihood-ratio = LR)\n",
        "lr = 5.1\n",
        "\n",
        "# P(X | Y)\n",
        "p_xy = (lr / (1 + lr))\n",
        "\n",
        "\n",
        "# Anwendung der Funktion\n",
        "bayes_rule2(\n",
        "    p_xy=p_xy,\n",
        "  \tp_y=prior\n",
        ")"
      ],
      "metadata": {
        "id": "DgvIi7_NI2kv",
        "outputId": "2a28bc78-4f9b-4870-b6d9-a706283a69d3",
        "colab": {
          "base_uri": "https://localhost:8080/"
        }
      },
      "id": "DgvIi7_NI2kv",
      "execution_count": 28,
      "outputs": [
        {
          "output_type": "execute_result",
          "data": {
            "text/plain": [
              "0.8360655737704918"
            ]
          },
          "metadata": {},
          "execution_count": 28
        }
      ]
    },
    {
      "cell_type": "code",
      "source": [
        "# Prior P(Y)\n",
        "prior = 0.7\n",
        "\n",
        "# Wahrscheinlichkeitsverhältnis (likelihood-ratio = LR)\n",
        "lr = 5.1 * 0.8 * 53.2 * 0.3\n",
        "\n",
        "# P(X | Y)\n",
        "p_xy = (lr / (1 + lr))\n",
        "\n",
        "\n",
        "# Anwendung der Funktion\n",
        "bayes_rule2(\n",
        "    p_xy=p_xy,\n",
        "  \tp_y=prior\n",
        ")"
      ],
      "metadata": {
        "id": "hneNaAByJb1D",
        "outputId": "80b4d91c-2cc6-44d0-fb6f-1b6780ae28c7",
        "colab": {
          "base_uri": "https://localhost:8080/"
        }
      },
      "id": "hneNaAByJb1D",
      "execution_count": 29,
      "outputs": [
        {
          "output_type": "execute_result",
          "data": {
            "text/plain": [
              "0.993461453963405"
            ]
          },
          "metadata": {},
          "execution_count": 29
        }
      ]
    }
  ],
  "metadata": {
    "language_info": {
      "name": "python"
    },
    "colab": {
      "provenance": []
    },
    "kernelspec": {
      "name": "python3",
      "display_name": "Python 3"
    }
  },
  "nbformat": 4,
  "nbformat_minor": 5
}