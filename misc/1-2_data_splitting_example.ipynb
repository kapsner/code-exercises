{
  "cells": [
    {
      "cell_type": "markdown",
      "metadata": {},
      "source": [
        "---\n",
        "title: \"Data Splitting\"\n",
        "jupyter: ir\n",
        "---\n"
      ]
    },
    {
      "cell_type": "code",
      "metadata": {
        "results": "hide"
      },
      "source": [
        "#| include: false\n",
        "req_pkg <- c(\"splitTools\", \"mlbench\", \"knitr\", \"kdry\")\n",
        "for (r in req_pkg) {\n",
        "  if (!(r %in% installed.packages()[, \"Package\"])) {\n",
        "    install.packages(r)\n",
        "  }\n",
        "}\n"
      ],
      "execution_count": null,
      "outputs": []
    },
    {
      "cell_type": "code",
      "metadata": {},
      "source": [
        "#| echo: true\n",
        "library(splitTools)\n",
        "library(mlbench)\n",
        "data(\"BostonHousing\")\n",
        "\n",
        "# Die Funktion erzeugt eine Liste mit Indices \n",
        "# für die jeweiligen Datensets\n",
        "data_split <- splitTools::partition(\n",
        "  y = BostonHousing$medv,\n",
        "  p = c(train = 0.5, validation = 0.25, test = 0.25),\n",
        "  type = \"stratified\",\n",
        "  seed = 123\n",
        ")\n"
      ],
      "execution_count": null,
      "outputs": []
    },
    {
      "cell_type": "code",
      "metadata": {
        "results": "hide"
      },
      "source": [
        "#| include: false\n",
        "\n",
        "# Variablen auswählen für tabellarische Darstellung\n",
        "cols <- c(\"crim\", \"zn\", \"indus\", \"age\", \"rad\", \"ptratio\", \"lstat\")\n",
        "results_table <- data.table::data.table()\n",
        "\n",
        "for (n in names(data_split)) {\n",
        "  add_col <- sapply(BostonHousing[data_split[[n]], cols], kdry::rep_mean_sd) |>\n",
        "    cbind()\n",
        "  results_table <- cbind(results_table, add_col)\n",
        "}\n",
        "\n",
        "# Zeilenbeschriftungen\n",
        "results_table <- cbind(rownames(add_col), results_table)\n",
        "# Spaltenbeschriftungen\n",
        "colnames(results_table) <- c(\"Variable\", names(data_split))\n",
        "colnames(results_table)[2:4] <- c(\n",
        "  paste0(\"train (n=\", length(data_split[[\"train\"]]), \")\"),\n",
        "  paste0(\"validation (n=\", length(data_split[[\"validation\"]]), \")\"),\n",
        "  paste0(\"test (n=\", length(data_split[[\"test\"]]), \")\")\n",
        ")\n"
      ],
      "execution_count": null,
      "outputs": []
    },
    {
      "cell_type": "code",
      "metadata": {},
      "source": [
        "knitr::kable(results_table, caption = \"Train-Validation-Test Split: Mittelwert und Standardabweichung.\")"
      ],
      "execution_count": null,
      "outputs": []
    }
  ],
  "metadata": {
    "kernelspec": {
      "name": "ir",
      "language": "R",
      "display_name": "R",
      "path": "/home/user/.local/share/jupyter/kernels/ir"
    }
  },
  "nbformat": 4,
  "nbformat_minor": 4
}