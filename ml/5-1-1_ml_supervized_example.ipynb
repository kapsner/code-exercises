{
  "cells": [
    {
      "cell_type": "markdown",
      "metadata": {},
      "source": [
        "---\n",
        "title: \"ML-Einführung - Supervized Learning und xAI\"\n",
        "jupyter: ir\n",
        "---\n"
      ]
    },
    {
      "cell_type": "code",
      "execution_count": null,
      "metadata": {},
      "outputs": [],
      "source": [
        "#| echo: false\n",
        "#| include: false\n",
        "# Daten laden (Setup aus ML-Einführung)\n",
        "req_pkg <- c(\n",
        "  \"riskCommunicator\", \"data.table\", \"tinyplot\", \"see\",\n",
        "  \"splitTools\", \"tidymodels\", \"kernlab\", \"parsnip\",\n",
        "  \"yardstick\", \"rpart.plot\", \"ranger\", \"DALEXtra\", \"shapviz\", \"fastshap\",\n",
        "  \"vip\", \"bonsai\"\n",
        ")\n",
        "for (r in req_pkg) {\n",
        "  if (!(r %in% installed.packages()[, \"Package\"])) {\n",
        "    install.packages(r)\n",
        "  }\n",
        "}\n",
        "\n",
        "dataset_full <- riskCommunicator::framingham |>\n",
        "  data.table::data.table() # Daten einlesen\n",
        "# Subset: Basisuntersuchung\n",
        "dataset <- dataset_full[get(\"PERIOD\") == 1, ]\n",
        "\n",
        "# Relevante Spalten definieren\n",
        "use_cols <- c(\"SEX\", \"TOTCHOL\", \"AGE\", \"SYSBP\",\n",
        "\"CURSMOKE\", \"CIGPDAY\", \"BMI\", \"DIABETES\",\n",
        "\"HYPERTEN\")\n",
        "# Relevante Spalten filtern, fehlende Werte entfernen\n",
        "dataset <- dataset[\n",
        "  , .SD, .SDcols = use_cols\n",
        "] |>na.omit()\n",
        "\n",
        "# Transformieren der katgeorialen Variablen\n",
        "# \"SEX\" \"CURSMOKE\" \"CIGPDAY\" \"DIABETES\" \"HYPERTEN\"\n",
        "cat_vars <- use_cols[c(1, 5, 8, 9)]\n",
        "# Datentyp \"factor\" ändern\n",
        "dataset[, (cat_vars) := lapply(\n",
        "  X = .SD,\n",
        "  FUN = factor),\n",
        "  .SDcols = cat_vars\n",
        "]\n",
        "rm(dataset_full, cat_vars, use_cols, r, req_pkg)\n",
        "\n",
        "# Die Funktion erzeugt eine Liste mit Indices für die jeweiligen Datensets\n",
        "# Das stratifizierte Splitten anhand der Zielvariable \"HYPERTEN\" soll deren\n",
        "# gleichmäßige Verteilung in den Teildatensätzen sicherstellen.\n",
        "data_splits <- splitTools::partition(\n",
        "  y = dataset$HYPERTEN,\n",
        "  p = c(train = 0.7, validation = 0.15, test = 0.15),\n",
        "  type = \"stratified\",\n",
        "  seed = 123\n",
        ")\n",
        "\n",
        "# Teildatensätze für Regressions- und Klassifizierungs-Beispiele\n",
        "# Regression: Zielvariable \"SYSBP\" --> Entfernen von \"HYPERTEN\"\n",
        "dataset_reg <- dataset[\n",
        "  , .SD, .SDcols = setdiff(colnames(dataset), \"HYPERTEN\")\n",
        "]\n",
        "# Klassifikation: Zielvariable \"HYPERTEN\" --> Entfernen von \"SYSBP\"\n",
        "dataset_cls <- dataset[\n",
        "  , .SD, .SDcols = setdiff(colnames(dataset), \"SYSBP\")\n",
        "]\n"
      ]
    },
    {
      "cell_type": "code",
      "execution_count": null,
      "metadata": {},
      "outputs": [],
      "source": [
        "#| echo: true\n",
        "set.seed(123)\n",
        "# Definition des SVM-Modells\n",
        "svm_spec <- parsnip::svm_rbf() |>\n",
        "  parsnip::set_mode(\"classification\") |>\n",
        "  parsnip::set_engine(\"kernlab\", scaled = TRUE)\n",
        "\n",
        "# Fitten des Modells auf die Daten\n",
        "# \"cost\" entspricht dem Tuning-Parameter 'C'\n",
        "svm_m1 <- svm_spec |>\n",
        "  parsnip::set_args(cost = 500) |>\n",
        "  parsnip::fit(HYPERTEN ~ .,\n",
        "  data = dataset_cls[data_splits$train, ])\n",
        "\n",
        "# Vorhersagen werden auf dem Test-Datensatz berechnet\n",
        "svm_m1_preds <- svm_m1 |>\n",
        "  parsnip::augment(new_data = dataset_cls[data_splits$test, ])\n",
        "\n",
        "# Accuracy und AU-ROC\n",
        "auc <- svm_m1_preds |>\n",
        "  yardstick::accuracy(\n",
        "    truth = HYPERTEN, estimate = .pred_class)\n",
        "roc <- svm_m1_preds |>\n",
        "  yardstick::roc_auc(\n",
        "    truth = HYPERTEN, .pred_1, event_level = \"second\")\n",
        "\n",
        "# ROC-Kurve\n",
        "p <- svm_m1_preds |>\n",
        "  yardstick::roc_curve(\n",
        "    truth = HYPERTEN, .pred_1, event_level = \"second\")\n"
      ]
    },
    {
      "cell_type": "code",
      "execution_count": null,
      "metadata": {},
      "outputs": [],
      "source": [
        "#| echo: true\n",
        "svm_m1\n"
      ]
    },
    {
      "cell_type": "code",
      "execution_count": null,
      "metadata": {},
      "outputs": [],
      "source": [
        "#| echo: true\n",
        "rbind(auc, roc)\n"
      ]
    },
    {
      "cell_type": "code",
      "execution_count": null,
      "metadata": {
        "fig-height": 4,
        "fig-width": 4
      },
      "outputs": [],
      "source": [
        "#| echo: true\n",
        "#| out-width: 75%\n",
        "#| fig-align: center\n",
        "ggplot2::autoplot(p)\n"
      ]
    },
    {
      "cell_type": "code",
      "execution_count": null,
      "metadata": {},
      "outputs": [],
      "source": [
        "#| echo: true\n",
        "set.seed(123)\n",
        "# Definition des SVM-Modells\n",
        "svm_spec <- parsnip::svm_rbf() |>\n",
        "  parsnip::set_mode(\"regression\") |>\n",
        "  parsnip::set_engine(\"kernlab\", scaled = TRUE)\n",
        "\n",
        "# Fitten des Modells auf die Daten\n",
        "# \"cost\" entspricht dem Tuning-Parameter 'C'\n",
        "svm_m2 <- svm_spec |>\n",
        "  parsnip::set_args(cost = 500) |>\n",
        "  parsnip::fit(\n",
        "    SYSBP ~ .,\n",
        "    data = dataset_reg[data_splits$train, ]\n",
        "  )\n",
        "\n",
        "# Vorhersagen werden auf dem Test-Datensatz berechnet\n",
        "svm_m2_preds <- svm_m2 |>\n",
        "  parsnip::augment(\n",
        "    new_data = dataset_reg[data_splits$test, ]\n",
        "  )\n",
        "# RMSE\n",
        "rmse <- svm_m2_preds |>\n",
        "  yardstick::rmse(\n",
        "    truth = SYSBP, estimate = .pred\n",
        "  )\n"
      ]
    },
    {
      "cell_type": "code",
      "execution_count": null,
      "metadata": {},
      "outputs": [],
      "source": [
        "#| echo: true\n",
        "svm_m2\n",
        "\n",
        "# RMSE\n",
        "rmse\n"
      ]
    },
    {
      "cell_type": "code",
      "execution_count": null,
      "metadata": {},
      "outputs": [],
      "source": [
        "#| echo: true\n",
        "set.seed(123)\n",
        "# Definition des Regression Trees\n",
        "tree_spec <- parsnip::decision_tree() |>\n",
        "  parsnip::set_engine(\"rpart\")\n",
        "reg_tree_spec <- tree_spec |>\n",
        "  parsnip::set_mode(\"regression\")\n",
        "\n",
        "# Fitten des Modells auf die Daten\n",
        "# Zielvariable: 'SYSBP' aufgrund des Regressions-Settings\n",
        "tree_m1 <- reg_tree_spec |>\n",
        "  parsnip::set_args(model = TRUE) |>\n",
        "  parsnip::fit(\n",
        "    SYSBP ~ ., data = dataset_reg[data_splits$train, ]\n",
        "  )\n",
        "\n",
        "# Vorhersagen werden auf dem Test-Datensatz berechnet\n",
        "tree_m1_preds <- tree_m1 |>\n",
        "  parsnip::augment(\n",
        "    new_data = dataset_reg[data_splits$test, ])\n"
      ]
    },
    {
      "cell_type": "code",
      "execution_count": null,
      "metadata": {},
      "outputs": [],
      "source": [
        "#| echo: true\n",
        "tree_m1\n"
      ]
    },
    {
      "cell_type": "code",
      "execution_count": null,
      "metadata": {
        "fig-height": 4.5,
        "fig-width": 6
      },
      "outputs": [],
      "source": [
        "#| echo: true\n",
        "#| out-width: 90%\n",
        "#| fig-align: center\n",
        "tree_m1 |>\n",
        "  parsnip::extract_fit_engine() |>\n",
        "  rpart.plot::rpart.plot()\n"
      ]
    },
    {
      "cell_type": "code",
      "execution_count": null,
      "metadata": {},
      "outputs": [],
      "source": [
        "#| echo: true\n",
        "# RMSE\n",
        "tree_m1_preds |>\n",
        "  yardstick::rmse(\n",
        "    truth = SYSBP,\n",
        "    estimate = .pred\n",
        "  )\n"
      ]
    },
    {
      "cell_type": "code",
      "execution_count": null,
      "metadata": {},
      "outputs": [],
      "source": [
        "#| echo: true\n",
        "set.seed(123)\n",
        "# Definition des Classification Trees\n",
        "cls_tree_spec <- tree_spec |>\n",
        "  parsnip::set_mode(\"classification\")\n",
        "\n",
        "cntrl <- rpart::rpart.control(\n",
        "  cp = 0.0075, # Schwellenwert für Informationszuwachs\n",
        "  minbucket = 20 # Mindestanzahl an Beobachtungen im Endknoten\n",
        ")\n",
        "\n",
        "# Fitten des Modells auf die Daten\n",
        "# Zielvariable: 'HYPERTEN' aufgrund des Klassifikations-Settings\n",
        "tree_m2 <- cls_tree_spec |>\n",
        "  parsnip::set_args(model = TRUE, control = cntrl) |>\n",
        "  parsnip::fit(\n",
        "    HYPERTEN ~ ., data = dataset_cls[data_splits$train, ]\n",
        "  )\n",
        "\n",
        "# Vorhersagen werden auf dem Test-Datensatz berechnet\n",
        "tree_m2_preds <- tree_m2 |>\n",
        "  parsnip::augment(new_data = dataset_cls[data_splits$test, ])\n",
        "\n",
        "# Accuracy und AU-ROC\n",
        "auc <- tree_m2_preds |>\n",
        "  yardstick::accuracy(truth = HYPERTEN, estimate = .pred_class)\n",
        "roc <- tree_m2_preds |>\n",
        "  yardstick::roc_auc(truth = HYPERTEN, .pred_1, event_level = \"second\")\n",
        "\n",
        "# ROC-Kurve\n",
        "p <- tree_m2_preds |>\n",
        "  yardstick::roc_curve(\n",
        "    truth = HYPERTEN, .pred_1, event_level = \"second\")\n"
      ]
    },
    {
      "cell_type": "code",
      "execution_count": null,
      "metadata": {},
      "outputs": [],
      "source": [
        "#| echo: true\n",
        "tree_m2\n",
        "rbind(auc, roc)\n"
      ]
    },
    {
      "cell_type": "code",
      "execution_count": null,
      "metadata": {
        "fig-height": 4.5,
        "fig-width": 6
      },
      "outputs": [],
      "source": [
        "#| echo: true\n",
        "#| out-width: 100%\n",
        "#| fig-align: center\n",
        "tree_m2 |>\n",
        "  parsnip::extract_fit_engine() |>\n",
        "  rpart.plot::rpart.plot()\n"
      ]
    },
    {
      "cell_type": "code",
      "execution_count": null,
      "metadata": {
        "fig-height": 4,
        "fig-width": 4
      },
      "outputs": [],
      "source": [
        "#| echo: true\n",
        "#| out-width: 90%\n",
        "#| fig-align: center\n",
        "ggplot2::autoplot(p)\n"
      ]
    },
    {
      "cell_type": "code",
      "execution_count": null,
      "metadata": {},
      "outputs": [],
      "source": [
        "#| echo: true\n",
        "set.seed(123)\n",
        "# Definition des Random Forests\n",
        "rf_spec <- parsnip::rand_forest(\n",
        "  trees = 1000, # B\n",
        "  mtry = floor(sqrt(ncol(dataset_cls))) # m\n",
        ") |> parsnip::set_engine(\"ranger\")\n",
        "cls_rf_spec <- rf_spec |>\n",
        "  parsnip::set_args(replace = FALSE) |>\n",
        "  parsnip::set_mode(\"classification\")\n",
        "\n",
        "# Fitten des Modells auf die Daten\n",
        "# Zielvariable: 'HYPERTEN' aufgrund des Klassifikations-Settings\n",
        "rf_m1 <- cls_rf_spec |>\n",
        "  parsnip::fit(HYPERTEN ~ ., data = dataset_cls[data_splits$train, ])\n",
        "\n",
        "# Vorhersagen werden auf dem Test-Datensatz berechnet\n",
        "rf_m1_preds <- rf_m1 |>\n",
        "  parsnip::augment(new_data = dataset_cls[data_splits$test, ])\n",
        "\n",
        "# Accuracy und AU-ROC\n",
        "auc <- rf_m1_preds |> yardstick::accuracy(truth = HYPERTEN, estimate = .pred_class)\n",
        "roc <- rf_m1_preds |> yardstick::roc_auc(truth = HYPERTEN, .pred_1, event_level = \"second\")\n",
        "\n",
        "# ROC-Kurve\n",
        "p <- rf_m1_preds |>\n",
        "  yardstick::roc_curve(truth = HYPERTEN, .pred_1, event_level = \"second\")\n"
      ]
    },
    {
      "cell_type": "code",
      "execution_count": null,
      "metadata": {},
      "outputs": [],
      "source": [
        "#| echo: true\n",
        "rf_m1\n",
        "rbind(auc, roc)\n"
      ]
    },
    {
      "cell_type": "code",
      "execution_count": null,
      "metadata": {
        "fig-height": 4,
        "fig-width": 4
      },
      "outputs": [],
      "source": [
        "#| echo: true\n",
        "#| out-width: 90%\n",
        "#| fig-align: center\n",
        "ggplot2::autoplot(p)\n"
      ]
    },
    {
      "cell_type": "code",
      "execution_count": null,
      "metadata": {},
      "outputs": [],
      "source": [
        "#| echo: true\n",
        "set.seed(123)\n",
        "rf_spec <- parsnip::rand_forest(\n",
        "  trees = 1000, # B\n",
        "  mtry = floor(ncol(dataset_cls) / 3) # m\n",
        ") |> parsnip::set_engine(\"ranger\")\n",
        "reg_rf_spec <- rf_spec |>\n",
        "  parsnip::set_args(replace = FALSE) |>\n",
        "  parsnip::set_mode(\"regression\")\n",
        "\n",
        "# Fitten des Modells auf die Daten\n",
        "# Zielvariable: 'SYSBP' aufgrund des Regressions-Settings\n",
        "rf_m2 <- reg_rf_spec |>\n",
        "  parsnip::fit(\n",
        "    SYSBP ~ ., data = dataset_reg[data_splits$train, ]\n",
        "  )\n",
        "\n",
        "# Vorhersagen werden auf dem Test-Datensatz berechnet\n",
        "rf_m2_preds <- rf_m2 |>\n",
        "  parsnip::augment(\n",
        "    new_data = dataset_reg[data_splits$test, ])\n"
      ]
    },
    {
      "cell_type": "code",
      "execution_count": null,
      "metadata": {},
      "outputs": [],
      "source": [
        "#| echo: true\n",
        "# RMSE\n",
        "rf_m2_preds |>\n",
        "  yardstick::rmse(\n",
        "    truth = SYSBP,\n",
        "    estimate = .pred\n",
        "  )\n"
      ]
    },
    {
      "cell_type": "code",
      "execution_count": null,
      "metadata": {},
      "outputs": [],
      "source": [
        "#| echo: true\n",
        "set.seed(123)\n",
        "library(bonsai)\n",
        "# Definition des lightgbm Modells\n",
        "lgb_spec <- parsnip::boost_tree(\n",
        "  trees = 500, # B\n",
        "  mtry = floor(sqrt(ncol(dataset_cls))), # m\n",
        "  loss_reduction = 0.1\n",
        ") |> parsnip::set_engine(\"lightgbm\")\n",
        "cls_lgb_spec <- lgb_spec |>\n",
        "  parsnip::set_args(early_stooping_round = 10) |>\n",
        "  parsnip::set_mode(\"classification\")\n",
        "\n",
        "# Fitten des Modells auf die Daten\n",
        "# Zielvariable: 'HYPERTEN' aufgrund des Klassifikations-Settings\n",
        "lgb_m1 <- cls_lgb_spec |>\n",
        "  parsnip::fit(HYPERTEN ~ ., data = dataset_cls[data_splits$train, ])\n",
        "\n",
        "# Vorhersagen werden auf dem Test-Datensatz berechnet\n",
        "lgb_m1_preds <- lgb_m1 |>\n",
        "  parsnip::augment(new_data = dataset_cls[data_splits$test, ])\n",
        "\n",
        "# Accuracy und AU-ROC\n",
        "auc <- lgb_m1_preds |> yardstick::accuracy(truth = HYPERTEN, estimate = .pred_class)\n",
        "roc <- lgb_m1_preds |> yardstick::roc_auc(truth = HYPERTEN, .pred_1, event_level = \"second\")\n",
        "\n",
        "# ROC-Curve\n",
        "p <- lgb_m1_preds |>\n",
        "  yardstick::roc_curve(truth = HYPERTEN, .pred_1, event_level = \"second\")\n"
      ]
    },
    {
      "cell_type": "code",
      "execution_count": null,
      "metadata": {},
      "outputs": [],
      "source": [
        "#| echo: true\n",
        "lgb_m1\n",
        "rbind(auc, roc)\n"
      ]
    },
    {
      "cell_type": "code",
      "execution_count": null,
      "metadata": {
        "fig-height": 4,
        "fig-width": 4
      },
      "outputs": [],
      "source": [
        "#| echo: true\n",
        "#| out-width: 75%\n",
        "#| fig-align: center\n",
        "ggplot2::autoplot(p)\n"
      ]
    },
    {
      "cell_type": "code",
      "execution_count": null,
      "metadata": {},
      "outputs": [],
      "source": [
        "#| echo: true\n",
        "set.seed(123)\n",
        "lgb_spec <- parsnip::boost_tree(\n",
        "  trees = 500, # B\n",
        "  mtry = floor(ncol(dataset_cls) / 3), # m\n",
        "  loss_reduction = 0.1\n",
        ") |> parsnip::set_engine(\"lightgbm\")\n",
        "reg_lgb_spec <- lgb_spec |>\n",
        "  parsnip::set_args(early_stooping_round = 5) |>\n",
        "  parsnip::set_mode(\"regression\")\n",
        "\n",
        "# Fitten des Modells auf die Daten\n",
        "# Zielvariable: 'SYSBP' aufgrund des Regressions-Settings\n",
        "lgb_m2 <- reg_lgb_spec |>\n",
        "  parsnip::fit(\n",
        "    SYSBP ~ ., data = dataset_reg[data_splits$train, ]\n",
        "  )\n",
        "\n",
        "# Vorhersagen werden auf dem Test-Datensatz berechnet\n",
        "lgb_m2_preds <- lgb_m2 |>\n",
        "  parsnip::augment(\n",
        "    new_data = dataset_reg[data_splits$test, ])\n"
      ]
    },
    {
      "cell_type": "code",
      "execution_count": null,
      "metadata": {},
      "outputs": [],
      "source": [
        "#| echo: true\n",
        "# RMSE\n",
        "lgb_m2_preds |>\n",
        "  yardstick::rmse(\n",
        "    truth = SYSBP,\n",
        "    estimate = .pred\n",
        "  )\n"
      ]
    },
    {
      "cell_type": "code",
      "execution_count": null,
      "metadata": {},
      "outputs": [],
      "source": [
        "#| echo: true\n",
        "# Variable importance: \"impurity\"\n",
        "reg_rf_spec_vip_imp <- rf_spec |>\n",
        "  parsnip::set_args(replace = FALSE, importance = \"impurity\") |>\n",
        "  parsnip::set_mode(\"regression\")\n",
        "\n",
        "rf_m2_vip_imp <- reg_rf_spec_vip_imp |>\n",
        "  parsnip::fit( SYSBP ~ ., data = dataset_reg[data_splits$train, ])\n",
        "\n",
        "# Variable importance: \"permutation\"\n",
        "reg_rf_spec_vip_perm <- rf_spec |>\n",
        "  parsnip::set_args(replace = FALSE, importance = \"permutation\") |>\n",
        "  parsnip::set_mode(\"regression\")\n",
        "\n",
        "rf_m2_vip_perm <- reg_rf_spec_vip_perm |>\n",
        "  parsnip::fit(SYSBP ~ ., data = dataset_reg[data_splits$train, ])\n"
      ]
    },
    {
      "cell_type": "code",
      "execution_count": null,
      "metadata": {
        "fig-height": 4,
        "fig-width": 5
      },
      "outputs": [],
      "source": [
        "#| echo: true\n",
        "#| out-width: 100%\n",
        "#| fig-align: center\n",
        "vip::vip(rf_m2_vip_imp) +\n",
        "  ggplot2::ggtitle(\n",
        "    \"Variable Importance: 'impurity'\",\n",
        "    subtitle = \"Random Forest\"\n",
        "  )\n"
      ]
    },
    {
      "cell_type": "code",
      "execution_count": null,
      "metadata": {
        "fig-height": 4,
        "fig-width": 5
      },
      "outputs": [],
      "source": [
        "#| echo: true\n",
        "#| out-width: 100%\n",
        "#| fig-align: center\n",
        "vip::vip(rf_m2_vip_perm) +\n",
        "  ggplot2::ggtitle(\n",
        "    \"Variable Importance: 'permutation'\",\n",
        "    subtitle = \"Random Forest\"\n",
        "  )\n"
      ]
    },
    {
      "cell_type": "code",
      "execution_count": null,
      "metadata": {},
      "outputs": [],
      "source": [
        "#| echo: false\n",
        "#| eval: false\n",
        "# # Prediction wrapper\n",
        "# pfun <- function(object, newdata) {\n",
        "#   # muss einen numerischen Vektor zurückgeben\n",
        "#   as.vector(kernlab::predict(object, newdata))\n",
        "# }\n",
        "# # Berechnung der Shapley-Werte\n",
        "# s <- fastshap::explain(\n",
        "#   object = parsnip::extract_fit_engine(svm_m2),\n",
        "#   X = subset(dataset_reg[data_splits$train, ], select = -SYSBP),\n",
        "#   newdata = subset(dataset_reg[data_splits$test, ], select = -SYSBP),\n",
        "#   pred_wrapper = pfun, nsim = 1\n",
        "# )\n",
        "# # Erzeugen des Visualisierungs-Objects\n",
        "# shap_freq <- shapviz::shapviz(object = s, X = dataset_reg[data_splits$test, ])\n"
      ]
    },
    {
      "cell_type": "code",
      "execution_count": null,
      "metadata": {},
      "outputs": [],
      "source": [
        "#| echo: true\n",
        "# Prediction wrapper\n",
        "pfun <- function(object, newdata) {\n",
        "  # muss einen numerischen Vektor zurückgeben\n",
        "  as.vector(predict(object, newdata))$predictions\n",
        "}\n",
        "# Berechnung der Shapley-Werte für Random Forest\n",
        "s <- fastshap::explain(\n",
        "  object = parsnip::extract_fit_engine(rf_m2),\n",
        "  X = subset(dataset_reg[data_splits$train, ], select = -SYSBP),\n",
        "  newdata = subset(dataset_reg[data_splits$test, ], select = -SYSBP),\n",
        "  pred_wrapper = pfun, nsim = 1\n",
        ")\n",
        "# Erzeugen des Visualisierungs-Objects\n",
        "shap_freq <- shapviz::shapviz(object = s, X = dataset_reg[data_splits$test, ])\n"
      ]
    },
    {
      "cell_type": "code",
      "execution_count": null,
      "metadata": {
        "fig-height": 5,
        "fig-width": 8
      },
      "outputs": [],
      "source": [
        "#| echo: true\n",
        "#| out-width: 80%\n",
        "#| fig-align: center\n",
        "shapviz::sv_importance(shap_freq)\n"
      ]
    },
    {
      "cell_type": "code",
      "execution_count": null,
      "metadata": {
        "fig-height": 5,
        "fig-width": 8
      },
      "outputs": [],
      "source": [
        "#| echo: true\n",
        "#| out-width: 80%\n",
        "#| fig-align: center\n",
        "shapviz::sv_importance(shap_freq, kind = \"bee\")\n"
      ]
    },
    {
      "cell_type": "code",
      "execution_count": null,
      "metadata": {
        "fig-height": 5,
        "fig-width": 8
      },
      "outputs": [],
      "source": [
        "#| echo: true\n",
        "#| out-width: 80%\n",
        "#| fig-align: center\n",
        "shapviz::sv_dependence(shap_freq, v = colnames(dataset_reg)[c(1:3, 5:7)])"
      ]
    }
  ],
  "metadata": {
    "kernelspec": {
      "display_name": "R",
      "language": "R",
      "name": "ir",
      "path": "/home/user/.local/share/jupyter/kernels/ir"
    },
    "language_info": {
      "name": "r"
    }
  },
  "nbformat": 4,
  "nbformat_minor": 4
}
