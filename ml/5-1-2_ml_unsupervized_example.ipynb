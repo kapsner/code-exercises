{
  "cells": [
    {
      "cell_type": "markdown",
      "metadata": {},
      "source": [
        "---\n",
        "title: \"ML-Einführung - Unsupervized Learning\"\n",
        "jupyter: ir\n",
        "---\n"
      ]
    },
    {
      "cell_type": "code",
      "metadata": {},
      "source": [
        "#| echo: false\n",
        "#| include: false\n",
        "# Daten laden (Setup aus ML-Einführung)\n",
        "\n",
        "req_pkg <- c(\n",
        "  \"riskCommunicator\", \"data.table\", \"tinyplot\", \"see\",\n",
        "  \"splitTools\", \"tidymodels\", \"parsnip\", \"yardstick\"\n",
        ")\n",
        "for (r in req_pkg) {\n",
        "  if (!(r %in% installed.packages()[, \"Package\"])) {\n",
        "    install.packages(r)\n",
        "  }\n",
        "}\n",
        "\n",
        "dataset_full <- riskCommunicator::framingham |>\n",
        "  data.table::data.table() # Daten einlesen\n",
        "# Subset: Basisuntersuchung\n",
        "dataset <- dataset_full[get(\"PERIOD\") == 1, ]\n",
        "\n",
        "# Relevante Spalten definieren\n",
        "use_cols <- c(\"SEX\", \"TOTCHOL\", \"AGE\", \"SYSBP\",\n",
        "\"CURSMOKE\", \"CIGPDAY\", \"BMI\", \"DIABETES\",\n",
        "\"HYPERTEN\")\n",
        "# Relevante Spalten filtern, fehlende Werte entfernen\n",
        "dataset <- dataset[\n",
        "  , .SD, .SDcols = use_cols\n",
        "] |>na.omit()\n",
        "\n",
        "# Transformieren der katgeorialen Variablen\n",
        "# \"SEX\" \"CURSMOKE\" \"CIGPDAY\" \"DIABETES\" \"HYPERTEN\"\n",
        "cat_vars <- use_cols[c(1, 5, 8, 9)]\n",
        "# Datentyp \"factor\" ändern\n",
        "dataset[, (cat_vars) := lapply(\n",
        "  X = .SD,\n",
        "  FUN = factor),\n",
        "  .SDcols = cat_vars\n",
        "]\n",
        "rm(dataset_full, cat_vars, use_cols, r, req_pkg)\n",
        "\n",
        "# Die Funktion erzeugt eine Liste mit Indices für die jeweiligen Datensets\n",
        "# Das stratifizierte Splitten anhand der Zielvariable \"HYPERTEN\" soll deren\n",
        "# gleichmäßige Verteilung in den Teildatensätzen sicherstellen.\n",
        "data_splits <- splitTools::partition(\n",
        "  y = dataset$HYPERTEN,\n",
        "  p = c(train = 0.7, validation = 0.15, test = 0.15),\n",
        "  type = \"stratified\",\n",
        "  seed = 123\n",
        ")\n",
        "\n",
        "# Teildatensätze für Regressions- und Klassifizierungs-Beispiele\n",
        "# Regression: Zielvariable \"SYSBP\" --> Entfernen von \"HYPERTEN\"\n",
        "dataset_reg <- dataset[\n",
        "  , .SD, .SDcols = setdiff(colnames(dataset), \"HYPERTEN\")\n",
        "]\n",
        "# Klassifikation: Zielvariable \"HYPERTEN\" --> Entfernen von \"SYSBP\"\n",
        "dataset_cls <- dataset[\n",
        "  , .SD, .SDcols = setdiff(colnames(dataset), \"SYSBP\")\n",
        "]\n"
      ],
      "execution_count": null,
      "outputs": []
    },
    {
      "cell_type": "code",
      "metadata": {},
      "source": [
        "#| echo: true\n",
        "# Da kategoriale Daten keine Varianz\n",
        "# aufweisen, müssen diese für die PCA\n",
        "# entfernt werden\n",
        "set.seed(123)\n",
        "dataset_pca <- subset(\n",
        "  dataset_cls[data_splits$train, ],\n",
        "  select = colnames(dataset_cls)[\n",
        "    !dataset_cls[, lapply(.SD, is.factor)]\n",
        "  ]\n",
        ")\n",
        "pca_m1 <- dataset_pca |> stats::prcomp(scale. = TRUE)\n",
        "\n",
        "# Matrix der Ladungen der Hauptkomponenten\n",
        "pca_m1\n"
      ],
      "execution_count": null,
      "outputs": []
    },
    {
      "cell_type": "code",
      "metadata": {},
      "source": [
        "#| echo: true\n",
        "# Übersicht über die Principal Component-Werte\n",
        "# für die ersten sechs Beobachtungen\n",
        "head(pca_m1$x, n = 6)\n",
        "\n",
        "# Importance-Summary\n",
        "pca_m1_s <- summary(pca_m1)\n",
        "pca_m1_s\n"
      ],
      "execution_count": null,
      "outputs": []
    },
    {
      "cell_type": "code",
      "metadata": {
        "fig-width": 6,
        "fig-height": 5
      },
      "source": [
        "#| echo: true\n",
        "#| out-width: 80%\n",
        "#| fig-align: center\n",
        "tinyplot::plt(\n",
        "  x = pca_m1$x[, \"PC1\"],\n",
        "  y = pca_m1$x[, \"PC2\"],\n",
        "  xlab = \"PC1\",\n",
        "  ylab = \"PC2\"\n",
        ")\n"
      ],
      "execution_count": null,
      "outputs": []
    },
    {
      "cell_type": "code",
      "metadata": {
        "fig-width": 7,
        "fig-height": 5
      },
      "source": [
        "#| echo: true\n",
        "#| out-width: 93%\n",
        "#| fig-align: center\n",
        "hyperten_lbl <- dataset_cls[\n",
        "  data_splits$train, get(\"HYPERTEN\")]\n",
        "tinyplot::plt(x = pca_m1$x[, \"PC1\"],\n",
        "  y = pca_m1$x[, \"PC2\"], by = hyperten_lbl,\n",
        "  xlab = \"PC1\", ylab = \"PC2\",\n",
        "  legend = list(title = \"HYPERTEN\"))\n"
      ],
      "execution_count": null,
      "outputs": []
    },
    {
      "cell_type": "code",
      "metadata": {
        "fig-width": 6,
        "fig-height": 5
      },
      "source": [
        "#| echo: true\n",
        "#| out-width: 45%\n",
        "#| fig-align: center\n",
        "tinyplot::plt(x = c(1:4), y = round(pca_m1_s$importance[2, ] * 100),\n",
        "  ylab = \"Anteil der erklärten Varianz (%)\", xlab = \"Hauptkomponente\",\n",
        "  type = \"b\", draw = FALSE\n",
        ")\n"
      ],
      "execution_count": null,
      "outputs": []
    },
    {
      "cell_type": "code",
      "metadata": {},
      "source": [
        "#| echo: true\n",
        "set.seed(123)\n",
        "dataset_clust <- subset(\n",
        "  dataset_cls[data_splits$train, ],\n",
        "  select = -HYPERTEN\n",
        ")\n",
        "clust_m1 <- dataset_clust |>\n",
        "  stats::kmeans(centers = 2)  # \"centers\" entspricht K\n",
        "\n",
        "# Summary\n",
        "clust_m1$centers\n"
      ],
      "execution_count": null,
      "outputs": []
    },
    {
      "cell_type": "code",
      "metadata": {
        "fig-width": 6,
        "fig-height": 5
      },
      "source": [
        "#| echo: false\n",
        "#| out-width: 100%\n",
        "#| fig-align: center\n",
        "#| layout-ncol: 2\n",
        "tinyplot::plt(\n",
        "  x = dataset_clust$TOTCHOL,\n",
        "  y = dataset_clust$BMI,\n",
        "  by = factor(clust_m1$cluster), xlab = \"TOTCHOL\", ylab = \"BMI\",\n",
        "  legend = list(title = \"K=2\")\n",
        ")\n",
        "tinyplot::plt(\n",
        "  x = dataset_clust$AGE,\n",
        "  y = dataset_clust$TOTCHOL,\n",
        "  by = factor(clust_m1$cluster), xlab = \"AGE\", ylab = \"TOTCHOL\",\n",
        "  legend = list(title = \"K=2\")\n",
        ")\n",
        "tinyplot::plt(\n",
        "  x = dataset_clust$CIGPDAY,\n",
        "  y = dataset_clust$TOTCHOL,\n",
        "  by = factor(clust_m1$cluster), xlab = \"CIGPDAY\", ylab = \"TOTCHOL\",\n",
        "  legend = list(title = \"K=2\")\n",
        ")\n",
        "tinyplot::plt(\n",
        "  x = dataset_clust$AGE,\n",
        "  y = dataset_clust$CIGPDAY,\n",
        "  by = factor(clust_m1$cluster), xlab = \"AGE\", ylab = \"CIGPDAY\",\n",
        "  legend = list(title = \"K=2\")\n",
        ")\n"
      ],
      "execution_count": null,
      "outputs": []
    },
    {
      "cell_type": "code",
      "metadata": {},
      "source": [
        "#| echo: true\n",
        "set.seed(123)\n",
        "# Suche nach einem guten Wert für K\n",
        "twsq <- c() # total within-sum-of-squares\n",
        "for (k in 1:10) {\n",
        "  clust_m <- dataset_clust |>\n",
        "    stats::kmeans(centers = k)\n",
        "  twsq <- c(twsq, clust_m$tot.withinss)\n",
        "}\n"
      ],
      "execution_count": null,
      "outputs": []
    },
    {
      "cell_type": "code",
      "metadata": {
        "fig-width": 6,
        "fig-height": 5
      },
      "source": [
        "#| echo: true\n",
        "#| out-width: 75%\n",
        "#| fig-align: center\n",
        "tinyplot::plt(x = c(1:10), y = twsq,\n",
        "  ylab = \"Summe der 'within-cluster' Varianzen\",\n",
        "  xlab = \"K\", type = \"b\", draw = FALSE\n",
        ")"
      ],
      "execution_count": null,
      "outputs": []
    }
  ],
  "metadata": {
    "kernelspec": {
      "name": "ir",
      "language": "R",
      "display_name": "R",
      "path": "/home/user/.local/share/jupyter/kernels/ir"
    }
  },
  "nbformat": 4,
  "nbformat_minor": 4
}