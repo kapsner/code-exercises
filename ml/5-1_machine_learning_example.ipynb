{
  "cells": [
    {
      "cell_type": "markdown",
      "metadata": {},
      "source": [
        "---\n",
        "title: \"Einführung in Maschinelle Lernverfahren\"\n",
        "jupyter: ir\n",
        "---\n"
      ]
    },
    {
      "cell_type": "code",
      "metadata": {
        "results": "hide"
      },
      "source": [
        "#| include: false\n",
        "req_pkg <- c(\n",
        "  \"riskCommunicator\", \"data.table\", \"splitTools\",\n",
        "  \"kdry\", \"kableExtra\"\n",
        ")\n",
        "for (r in req_pkg) {\n",
        "  if (!(r %in% installed.packages()[, \"Package\"])) {\n",
        "    install.packages(r)\n",
        "  }\n",
        "}\n"
      ],
      "execution_count": null,
      "outputs": []
    },
    {
      "cell_type": "code",
      "metadata": {},
      "source": [
        "#| echo: true\n",
        "dataset_full <- riskCommunicator::framingham |>\n",
        "  data.table::data.table() # Daten einlesen\n",
        "# Subset: Basisuntersuchung\n",
        "dataset <- dataset_full[get(\"PERIOD\") == 1, ]\n",
        "\n",
        "# Relevante Spalten definieren\n",
        "use_cols <- c(\"SEX\", \"TOTCHOL\", \"AGE\", \"SYSBP\",\n",
        "\"CURSMOKE\", \"CIGPDAY\", \"BMI\", \"DIABETES\",\n",
        "\"HYPERTEN\")\n",
        "# Relevante Spalten filtern, fehlende Werte entfernen\n",
        "dataset <- dataset[\n",
        "  , .SD, .SDcols = use_cols\n",
        "] |>na.omit()\n",
        "\n",
        "# Transformieren der katgeorialen Variablen\n",
        "# \"SEX\" \"CURSMOKE\" \"CIGPDAY\" \"DIABETES\" \"HYPERTEN\"\n",
        "cat_vars <- use_cols[c(1, 5, 8, 9)]\n",
        "# Datentyp \"factor\" ändern\n",
        "dataset[, (cat_vars) := lapply(\n",
        "  X = .SD,\n",
        "  FUN = factor),\n",
        "  .SDcols = cat_vars\n",
        "]\n"
      ],
      "execution_count": null,
      "outputs": []
    },
    {
      "cell_type": "code",
      "metadata": {},
      "source": [
        "#| echo: false\n",
        "#| include: false\n",
        "rm(dataset_full, cat_vars, use_cols, r, req_pkg)\n"
      ],
      "execution_count": null,
      "outputs": []
    },
    {
      "cell_type": "code",
      "metadata": {},
      "source": [
        "# Übersicht über den Datensatz --> n=4332 Beobachtungen\n",
        "str(dataset)\n"
      ],
      "execution_count": null,
      "outputs": []
    },
    {
      "cell_type": "code",
      "metadata": {},
      "source": [
        "#| echo: true\n",
        "# Ausgabe der ersten 10 Zeilen\n",
        "dataset[1:10, ]\n"
      ],
      "execution_count": null,
      "outputs": []
    },
    {
      "cell_type": "code",
      "metadata": {},
      "source": [
        "#| echo: true\n",
        "# Die Funktion erzeugt eine Liste mit Indices für die jeweiligen Datensets\n",
        "# Das stratifizierte Splitten anhand der Zielvariable \"HYPERTEN\" soll deren\n",
        "# gleichmäßige Verteilung in den Teildatensätzen sicherstellen.\n",
        "data_splits <- splitTools::partition(\n",
        "  y = dataset$HYPERTEN,\n",
        "  p = c(train = 0.7, validation = 0.15, test = 0.15),\n",
        "  type = \"stratified\",\n",
        "  seed = 123\n",
        ")\n",
        "sapply(data_splits, length)  # Verteilung der Beobachtungen auf die Teildatensätze\n"
      ],
      "execution_count": null,
      "outputs": []
    },
    {
      "cell_type": "code",
      "metadata": {},
      "source": [
        "#| include: false\n",
        "# Initialisierung einer leeren Tabelle und Sammeln der kontinuierlichen / diskreten Variablen in je einem Vektor\n",
        "results_table <- data.table::data.table()\n",
        "num_vars <- dataset[, sapply(.SD, is.numeric), .SDcols = colnames(dataset)]\n",
        "# Diskrete Variablen ohne 'CIGPDAY' (zu viele Ausprägungen für Visualisierung)\n",
        "cat_vars <- dataset[, sapply(.SD, is.factor), .SDcols = setdiff(colnames(dataset), \"CIGPDAY\")]\n",
        "\n",
        "# Helper-Funktion definieren für Counts der diskreten Variablen\n",
        "level_counts <- function(X, cols) {\n",
        "  lvls <- levels(cols[, get(X)])\n",
        "  out <- sapply(\n",
        "    X = lvls,\n",
        "    FUN = function(x) {\n",
        "      kdry::rep_frac_pct(\n",
        "        count = cols[get(X) == x, .N],\n",
        "        count_reference = cols[, .N]\n",
        "      )\n",
        "    },\n",
        "    simplify = TRUE\n",
        "  )\n",
        "  names(out) <- paste(X, names(out), sep = \"=\")\n",
        "  out <- out |>\n",
        "    cbind() |>\n",
        "    data.table::data.table(keep.rownames = TRUE)\n",
        "  return(out)\n",
        "}\n",
        "\n",
        "# Berechnung von Mittelwert/Standardabweichung (kontinuierlichen Variablen) bzw.\n",
        "# Summe/relative Häufigkeit (diskrete Variablen) für Teildatensätze\n",
        "for (sp in names(data_splits)) {\n",
        "  num.cols <- dataset[data_splits[[sp]], names(num_vars)[num_vars], with = FALSE]\n",
        "  cat.cols <- dataset[data_splits[[sp]], names(cat_vars)[cat_vars], with = FALSE]\n",
        "\n",
        "  add_col_num <- sapply(X = num.cols, FUN = kdry::rep_mean_sd) |>\n",
        "    cbind() |>\n",
        "    data.table::data.table(keep.rownames = TRUE)\n",
        "  colnames(add_col_num)[2] <- \"out\"\n",
        "\n",
        "  add_col_cat <- lapply(X = names(cat.cols), FUN = level_counts, cols = cat.cols) |>\n",
        "    data.table::rbindlist()\n",
        "\n",
        "  results_table <- cbind(results_table, rbind(add_col_num, add_col_cat))\n",
        "}\n",
        "\n",
        "# Redundate Spalten entfernen\n",
        "results_table <- results_table[, c(1, 2, 4, 6)];\n",
        "\n",
        "# Spaltenbeschriftungen\n",
        "colnames(results_table) <- c(\"Variable\", names(data_splits))\n",
        "# jeweiliges N an die Split-Bezeichnungen in den Spaltennamen ergänzen\n",
        "split_colnames <- sapply(X = names(data_splits), FUN = function(x) {paste0(x, \" (n=\", length(data_splits[[x]]), \")\")})\n",
        "colnames(results_table)[2:4] <- split_colnames\n"
      ],
      "execution_count": null,
      "outputs": []
    },
    {
      "cell_type": "code",
      "metadata": {},
      "source": [
        "#| echo: true\n",
        "knitr::kable(results_table, caption = \"Train-Validation-Test Split\") |>\n",
        "  kableExtra::kable_styling(font_size = \"70%\")\n"
      ],
      "execution_count": null,
      "outputs": []
    },
    {
      "cell_type": "code",
      "metadata": {},
      "source": [
        "#| echo: false\n",
        "#| include: false\n",
        "rm(num_vars, cat_vars, level_counts, num.cols, cat.cols,\n",
        "  add_col_num, add_col_cat, results_table, sp, split_colnames)\n"
      ],
      "execution_count": null,
      "outputs": []
    },
    {
      "cell_type": "code",
      "metadata": {},
      "source": [
        "#| echo: true\n",
        "# Teildatensätze für Regressions- und Klassifizierungs-Beispiele\n",
        "\n",
        "# Regression: Zielvariable \"SYSBP\" --> Entfernen von \"HYPERTEN\"\n",
        "dataset_reg <- dataset[\n",
        "  , .SD, .SDcols = setdiff(colnames(dataset), \"HYPERTEN\")\n",
        "]\n",
        "\n",
        "# Klassifikation: Zielvariable \"HYPERTEN\" --> Entfernen von \"SYSBP\"\n",
        "dataset_cls <- dataset[\n",
        "  , .SD, .SDcols = setdiff(colnames(dataset), \"SYSBP\")\n",
        "]\n"
      ],
      "execution_count": null,
      "outputs": []
    },
    {
      "cell_type": "code",
      "metadata": {
        "fig-width": 6,
        "fig-height": 5
      },
      "source": [
        "#| echo: true\n",
        "#| out-width: 100%\n",
        "#| fig-align: center\n",
        "boxplot(dataset$SYSBP ~ dataset$HYPERTEN)"
      ],
      "execution_count": null,
      "outputs": []
    }
  ],
  "metadata": {
    "kernelspec": {
      "name": "ir",
      "language": "R",
      "display_name": "R",
      "path": "/home/user/.local/share/jupyter/kernels/ir"
    }
  },
  "nbformat": 4,
  "nbformat_minor": 4
}