{
  "cells": [
    {
      "cell_type": "markdown",
      "metadata": {},
      "source": [
        "---\n",
        "title: \"Einführung in Maschinelle Lernverfahren\"\n",
        "jupyter: ir\n",
        "---\n"
      ]
    },
    {
      "cell_type": "code",
      "metadata": {
        "results": "hide"
      },
      "source": [
        "#| include: false\n",
        "req_pkg <- c(\n",
        "  \"riskCommunicator\", \"data.table\", \"performance\", \"tinyplot\", \"see\",\n",
        "  \"splitTools\", \"kdry\", \"kableExtra\", \"tidymodels\", \"kernlab\", \"parsnip\",\n",
        "  \"yardstick\", \"broom\", \"rpart.plot\", \"ranger\", \"DALEXtra\", \"shapviz\",\n",
        "  \"fastshap\", \"vip\"\n",
        ")\n",
        "for (r in req_pkg) {\n",
        "  if (!(r %in% installed.packages()[, \"Package\"])) {\n",
        "    install.packages(r)\n",
        "  }\n",
        "}\n"
      ],
      "execution_count": null,
      "outputs": []
    },
    {
      "cell_type": "code",
      "metadata": {},
      "source": [
        "#| echo: true\n",
        "dataset_full <- riskCommunicator::framingham |>\n",
        "  data.table::data.table() # Daten einlesen\n",
        "# Subset: Basisuntersuchung\n",
        "dataset <- dataset_full[get(\"PERIOD\") == 1, ]\n",
        "\n",
        "# Relevante Spalten definieren\n",
        "use_cols <- c(\"SEX\", \"TOTCHOL\", \"AGE\", \"SYSBP\",\n",
        "\"CURSMOKE\", \"CIGPDAY\", \"BMI\", \"DIABETES\",\n",
        "\"HYPERTEN\")\n",
        "# Relevante Spalten filtern, fehlende Werte entfernen\n",
        "dataset <- dataset[\n",
        "  , .SD, .SDcols = use_cols\n",
        "] |>na.omit()\n",
        "\n",
        "# Transformieren der katgeorialen Variablen\n",
        "# \"SEX\" \"CURSMOKE\" \"CIGPDAY\" \"DIABETES\" \"HYPERTEN\"\n",
        "cat_vars <- use_cols[c(1, 5, 8, 9)]\n",
        "# Datentyp \"factor\" ändern\n",
        "dataset[, (cat_vars) := lapply(\n",
        "  X = .SD,\n",
        "  FUN = factor),\n",
        "  .SDcols = cat_vars\n",
        "]\n"
      ],
      "execution_count": null,
      "outputs": []
    },
    {
      "cell_type": "code",
      "metadata": {},
      "source": [
        "# Übersicht über den Datensatz --> n=4332 Beobachtungen\n",
        "str(dataset)\n"
      ],
      "execution_count": null,
      "outputs": []
    },
    {
      "cell_type": "code",
      "metadata": {},
      "source": [
        "#| echo: true\n",
        "# Ausgabe der ersten 10 Zeilen\n",
        "dataset[1:10, ]\n"
      ],
      "execution_count": null,
      "outputs": []
    },
    {
      "cell_type": "code",
      "metadata": {},
      "source": [
        "#| echo: true\n",
        "# Die Funktion erzeugt eine Liste mit Indices für die jeweiligen Datensets\n",
        "# Das stratifizierte Splitten anhand der Zielvariable \"HYPERTEN\" soll deren\n",
        "# gleichmäßige Verteilung in den Teildatensätzen sicherstellen.\n",
        "data_splits <- splitTools::partition(\n",
        "  y = dataset$HYPERTEN,\n",
        "  p = c(train = 0.7, validation = 0.15, test = 0.15),\n",
        "  type = \"stratified\",\n",
        "  seed = 123\n",
        ")\n",
        "sapply(data_splits, length)  # Verteilung der Beobachtungen auf die Teildatensätze\n"
      ],
      "execution_count": null,
      "outputs": []
    },
    {
      "cell_type": "code",
      "metadata": {},
      "source": [
        "#| include: false\n",
        "# Initialisierung einer leeren Tabelle und Sammeln der kontinuierlichen / diskreten Variablen in je einem Vektor\n",
        "results_table <- data.table::data.table()\n",
        "num_vars <- dataset[, sapply(.SD, is.numeric), .SDcols = colnames(dataset)]\n",
        "# Diskrete Variablen ohne 'CIGPDAY' (zu viele Ausprägungen für Visualisierung)\n",
        "cat_vars <- dataset[, sapply(.SD, is.factor), .SDcols = setdiff(colnames(dataset), \"CIGPDAY\")]\n",
        "\n",
        "# Helper-Funktion definieren für Counts der diskreten Variablen\n",
        "level_counts <- function(X, cols) {\n",
        "  lvls <- levels(cols[, get(X)])\n",
        "  out <- sapply(\n",
        "    X = lvls,\n",
        "    FUN = function(x) {\n",
        "      kdry::rep_frac_pct(\n",
        "        count = cols[get(X) == x, .N],\n",
        "        count_reference = cols[, .N]\n",
        "      )\n",
        "    },\n",
        "    simplify = TRUE\n",
        "  )\n",
        "  names(out) <- paste(X, names(out), sep = \"=\")\n",
        "  out <- out |>\n",
        "    cbind() |>\n",
        "    data.table::data.table(keep.rownames = TRUE)\n",
        "  return(out)\n",
        "}\n",
        "\n",
        "# Berechnung von Mittelwert/Standardabweichung (kontinuierlichen Variablen) bzw.\n",
        "# Summe/relative Häufigkeit (diskrete Variablen) für Teildatensätze\n",
        "for (sp in names(data_splits)) {\n",
        "  num.cols <- dataset[data_splits[[sp]], names(num_vars)[num_vars], with = FALSE]\n",
        "  cat.cols <- dataset[data_splits[[sp]], names(cat_vars)[cat_vars], with = FALSE]\n",
        "\n",
        "  add_col_num <- sapply(X = num.cols, FUN = kdry::rep_mean_sd) |>\n",
        "    cbind() |>\n",
        "    data.table::data.table(keep.rownames = TRUE)\n",
        "  colnames(add_col_num)[2] <- \"out\"\n",
        "\n",
        "  add_col_cat <- lapply(X = names(cat.cols), FUN = level_counts, cols = cat.cols) |>\n",
        "    data.table::rbindlist()\n",
        "\n",
        "  results_table <- cbind(results_table, rbind(add_col_num, add_col_cat))\n",
        "}\n",
        "\n",
        "# Redundate Spalten entfernen\n",
        "results_table <- results_table[, c(1, 2, 4, 6)];\n",
        "\n",
        "# Spaltenbeschriftungen\n",
        "colnames(results_table) <- c(\"Variable\", names(data_splits))\n",
        "# jeweiliges N an die Split-Bezeichnungen in den Spaltennamen ergänzen\n",
        "split_colnames <- sapply(X = names(data_splits), FUN = function(x) {paste0(x, \" (n=\", length(data_splits[[x]]), \")\")})\n",
        "colnames(results_table)[2:4] <- split_colnames\n"
      ],
      "execution_count": null,
      "outputs": []
    },
    {
      "cell_type": "code",
      "metadata": {},
      "source": [
        "#| echo: true\n",
        "knitr::kable(results_table, caption = \"Train-Validation-Test Split\") |>\n",
        "  kableExtra::kable_styling(font_size = \"70%\")\n"
      ],
      "execution_count": null,
      "outputs": []
    },
    {
      "cell_type": "code",
      "metadata": {},
      "source": [
        "#| echo: true\n",
        "# Teildatensätze für Regressions- und Klassifizierungs-Beispiele\n",
        "\n",
        "# Regression: Zielvariable \"SYSBP\" --> Entfernen von \"HYPERTEN\"\n",
        "dataset_reg <- dataset[\n",
        "  , .SD, .SDcols = setdiff(colnames(dataset), \"HYPERTEN\")\n",
        "]\n",
        "\n",
        "# Klassifikation: Zielvariable \"HYPERTEN\" --> Entfernen von \"SYSBP\"\n",
        "dataset_cls <- dataset[\n",
        "  , .SD, .SDcols = setdiff(colnames(dataset), \"SYSBP\")\n",
        "]\n"
      ],
      "execution_count": null,
      "outputs": []
    },
    {
      "cell_type": "code",
      "metadata": {
        "fig-width": 6,
        "fig-height": 5
      },
      "source": [
        "#| echo: true\n",
        "#| out-width: 100%\n",
        "#| fig-align: center\n",
        "boxplot(dataset$SYSBP ~ dataset$HYPERTEN)\n"
      ],
      "execution_count": null,
      "outputs": []
    },
    {
      "cell_type": "code",
      "metadata": {},
      "source": [
        "#| echo: true\n",
        "set.seed(123)\n",
        "# Definition des SVM-Modells\n",
        "svm_spec <- parsnip::svm_rbf() |>\n",
        "  parsnip::set_mode(\"classification\") |>\n",
        "  parsnip::set_engine(\"kernlab\", scaled = TRUE)\n",
        "\n",
        "# Fitten des Modells auf die Daten\n",
        "# \"cost\" entspricht dem Tuning-Parameter 'C'\n",
        "svm_m1 <- svm_spec |>\n",
        "  parsnip::set_args(cost = 500) |>\n",
        "  parsnip::fit(HYPERTEN ~ .,\n",
        "  data = dataset_cls[data_splits$train, ])\n",
        "\n",
        "# Vorhersagen werden auf dem Test-Datensatz berechnet\n",
        "svm_m1_preds <- broom::augment(\n",
        "  x = svm_m1, new_data = dataset_cls[data_splits$test, ]\n",
        ")\n"
      ],
      "execution_count": null,
      "outputs": []
    },
    {
      "cell_type": "code",
      "metadata": {},
      "source": [
        "#| echo: true\n",
        "svm_m1\n"
      ],
      "execution_count": null,
      "outputs": []
    },
    {
      "cell_type": "code",
      "metadata": {
        "fig-width": 4,
        "fig-height": 4
      },
      "source": [
        "#| echo: true\n",
        "#| out-width: 60%\n",
        "#| fig-align: center\n",
        "yardstick::roc_curve( # ROC-Curve\n",
        "  data = svm_m1_preds, truth = HYPERTEN,\n",
        "  .pred_1, event_level = \"second\"\n",
        ") |> ggplot2::autoplot()\n"
      ],
      "execution_count": null,
      "outputs": []
    },
    {
      "cell_type": "code",
      "metadata": {},
      "source": [
        "#| echo: true\n",
        "# Accuracy und AU-ROC\n",
        "auc <- svm_m1_preds |>\n",
        "  yardstick::accuracy(\n",
        "    truth = HYPERTEN, estimate = .pred_class\n",
        "  )\n",
        "roc <- svm_m1_preds |>\n",
        "  yardstick::roc_auc(\n",
        "    truth = HYPERTEN, .pred_1,\n",
        "    event_level = \"second\"\n",
        "  )\n",
        "rbind(auc, roc)\n"
      ],
      "execution_count": null,
      "outputs": []
    },
    {
      "cell_type": "code",
      "metadata": {},
      "source": [
        "#| echo: true\n",
        "set.seed(123)\n",
        "# Definition des SVM-Modells\n",
        "svm_spec <- parsnip::svm_rbf() |>\n",
        "  parsnip::set_mode(\"regression\") |>\n",
        "  parsnip::set_engine(\"kernlab\", scaled = TRUE)\n",
        "\n",
        "# Fitten des Modells auf die Daten\n",
        "# \"cost\" entspricht dem Tuning-Parameter 'C'\n",
        "svm_m2 <- svm_spec |>\n",
        "  parsnip::set_args(cost = 500) |>\n",
        "  parsnip::fit(SYSBP ~ ., data = dataset_reg[data_splits$train, ])\n",
        "\n",
        "# Vorhersagen werden auf dem Test-Datensatz berechnet\n",
        "svm_m2_preds <- broom::augment(\n",
        "  x = svm_m2, new_data = dataset_reg[data_splits$test, ]\n",
        ")\n"
      ],
      "execution_count": null,
      "outputs": []
    },
    {
      "cell_type": "code",
      "metadata": {},
      "source": [
        "#| echo: true\n",
        "svm_m2\n",
        "\n",
        "# RMSE\n",
        "yardstick::rmse(\n",
        "  data = svm_m2_preds,\n",
        "  truth = SYSBP,\n",
        "  estimate = .pred\n",
        ")\n"
      ],
      "execution_count": null,
      "outputs": []
    },
    {
      "cell_type": "code",
      "metadata": {},
      "source": [
        "#| echo: true\n",
        "set.seed(123)\n",
        "# Definition des Regression Trees\n",
        "tree_spec <- parsnip::decision_tree() |>\n",
        "  parsnip::set_engine(\"rpart\")\n",
        "reg_tree_spec <- tree_spec |>\n",
        "  parsnip::set_mode(\"regression\")\n",
        "\n",
        "# Fitten des Modells auf die Daten\n",
        "# Zielvariable: 'SYSBP' aufgrund des Regressions-Settings\n",
        "tree_m1 <- reg_tree_spec |>\n",
        "  parsnip::set_args(model = TRUE) |>\n",
        "  parsnip::fit(\n",
        "    SYSBP ~ ., data = dataset_reg[data_splits$train, ]\n",
        "  )\n",
        "\n",
        "# Vorhersagen werden auf dem Test-Datensatz berechnet\n",
        "tree_m1_preds <- broom::augment(\n",
        "  x = tree_m1, new_data = dataset_reg[data_splits$test, ]\n",
        ")\n"
      ],
      "execution_count": null,
      "outputs": []
    },
    {
      "cell_type": "code",
      "metadata": {},
      "source": [
        "#| echo: true\n",
        "tree_m1\n"
      ],
      "execution_count": null,
      "outputs": []
    },
    {
      "cell_type": "code",
      "metadata": {
        "fig-width": 6,
        "fig-height": 4.5
      },
      "source": [
        "#| echo: true\n",
        "#| out-width: 90%\n",
        "#| fig-align: center\n",
        "tree_m1 |>\n",
        "  parsnip::extract_fit_engine() |>\n",
        "  rpart.plot::rpart.plot()\n"
      ],
      "execution_count": null,
      "outputs": []
    },
    {
      "cell_type": "code",
      "metadata": {},
      "source": [
        "#| echo: true\n",
        "# RMSE\n",
        "yardstick::rmse(\n",
        "  data = tree_m1_preds,\n",
        "  truth = SYSBP,\n",
        "  estimate = .pred\n",
        ")\n"
      ],
      "execution_count": null,
      "outputs": []
    },
    {
      "cell_type": "code",
      "metadata": {},
      "source": [
        "#| echo: true\n",
        "set.seed(123)\n",
        "# Definition des Classification Trees\n",
        "cls_tree_spec <- tree_spec |>\n",
        "  parsnip::set_mode(\"classification\")\n",
        "\n",
        "cntrl <- rpart::rpart.control(\n",
        "  cp = 0.0075, # Schwellenwert für Informationszuwachs\n",
        "  minbucket = 20 # Mindestanzahl an Beobachtungen im Endknoten\n",
        ")\n",
        "\n",
        "# Fitten des Modells auf die Daten\n",
        "# Zielvariable: 'HYPERTEN' aufgrund des Klassifikations-Settings\n",
        "tree_m2 <- cls_tree_spec |>\n",
        "  parsnip::set_args(model = TRUE, control = cntrl) |>\n",
        "  parsnip::fit(\n",
        "    HYPERTEN ~ ., data = dataset_cls[data_splits$train, ]\n",
        "  )\n",
        "\n",
        "# Vorhersagen werden auf dem Test-Datensatz berechnet\n",
        "tree_m2_preds <- broom::augment(\n",
        "  x = tree_m2, new_data = dataset_cls[data_splits$test, ]\n",
        ")\n",
        "\n",
        "# Accuracy und AU-ROC\n",
        "auc <- tree_m2_preds |>\n",
        "  yardstick::accuracy(truth = HYPERTEN, estimate = .pred_class)\n",
        "roc <- tree_m2_preds |>\n",
        "  yardstick::roc_auc(truth = HYPERTEN, .pred_1, event_level = \"second\")\n"
      ],
      "execution_count": null,
      "outputs": []
    },
    {
      "cell_type": "code",
      "metadata": {},
      "source": [
        "#| echo: true\n",
        "tree_m2\n",
        "rbind(auc, roc)\n"
      ],
      "execution_count": null,
      "outputs": []
    },
    {
      "cell_type": "code",
      "metadata": {
        "fig-width": 6,
        "fig-height": 4.5
      },
      "source": [
        "#| echo: true\n",
        "#| out-width: 100%\n",
        "#| fig-align: center\n",
        "tree_m2 |>\n",
        "  parsnip::extract_fit_engine() |>\n",
        "  rpart.plot::rpart.plot()\n"
      ],
      "execution_count": null,
      "outputs": []
    },
    {
      "cell_type": "code",
      "metadata": {
        "fig-width": 4,
        "fig-height": 4
      },
      "source": [
        "#| echo: true\n",
        "#| out-width: 60%\n",
        "#| fig-align: center\n",
        "yardstick::roc_curve( # ROC-Curve\n",
        "  data = tree_m2_preds, truth = HYPERTEN, .pred_1, event_level = \"second\"\n",
        ") |> ggplot2::autoplot()\n"
      ],
      "execution_count": null,
      "outputs": []
    },
    {
      "cell_type": "code",
      "metadata": {},
      "source": [
        "#| echo: true\n",
        "set.seed(123)\n",
        "# Definition des Random Forests\n",
        "rf_spec <- parsnip::rand_forest(\n",
        "  trees = 1000, # B\n",
        "  mtry = floor(sqrt(ncol(dataset_cls))) # m\n",
        ") |> parsnip::set_engine(\"ranger\")\n",
        "cls_rf_spec <- rf_spec |>\n",
        "  parsnip::set_args(replace = FALSE) |>\n",
        "  parsnip::set_mode(\"classification\")\n",
        "\n",
        "# Fitten des Modells auf die Daten\n",
        "# Zielvariable: 'HYPERTEN' aufgrund des Klassifikations-Settings\n",
        "rf_m1 <- cls_rf_spec |>\n",
        "  parsnip::fit(HYPERTEN ~ ., data = dataset_cls[data_splits$train, ])\n",
        "\n",
        "# Vorhersagen werden auf dem Test-Datensatz berechnet\n",
        "rf_m1_preds <- broom::augment(x = rf_m1, new_data = dataset_cls[data_splits$test, ])\n",
        "\n",
        "# Accuracy und AU-ROC\n",
        "auc <- rf_m1_preds |> yardstick::accuracy(truth = HYPERTEN, estimate = .pred_class)\n",
        "roc <- rf_m1_preds |> yardstick::roc_auc(truth = HYPERTEN, .pred_1, event_level = \"second\")\n"
      ],
      "execution_count": null,
      "outputs": []
    },
    {
      "cell_type": "code",
      "metadata": {},
      "source": [
        "#| echo: true\n",
        "rf_m1\n",
        "rbind(auc, roc)\n"
      ],
      "execution_count": null,
      "outputs": []
    },
    {
      "cell_type": "code",
      "metadata": {
        "fig-width": 4,
        "fig-height": 4
      },
      "source": [
        "#| echo: true\n",
        "#| out-width: 60%\n",
        "#| fig-align: center\n",
        "yardstick::roc_curve( # ROC-Curve\n",
        "  data = rf_m1_preds,\n",
        "  truth = HYPERTEN,\n",
        "  .pred_1,\n",
        "  event_level = \"second\"\n",
        ") |> ggplot2::autoplot()\n"
      ],
      "execution_count": null,
      "outputs": []
    },
    {
      "cell_type": "code",
      "metadata": {},
      "source": [
        "#| echo: true\n",
        "set.seed(123)\n",
        "rf_spec <- parsnip::rand_forest(\n",
        "  trees = 1000, # B\n",
        "  mtry = floor(ncol(dataset_cls) / 3) # m\n",
        ") |> parsnip::set_engine(\"ranger\")\n",
        "reg_rf_spec <- rf_spec |>\n",
        "  parsnip::set_args(replace = FALSE) |>\n",
        "  parsnip::set_mode(\"regression\")\n",
        "\n",
        "# Fitten des Modells auf die Daten\n",
        "# Zielvariable: 'SYSBP' aufgrund des Regressions-Settings\n",
        "rf_m2 <- reg_rf_spec |>\n",
        "  parsnip::fit(\n",
        "    SYSBP ~ ., data = dataset_reg[data_splits$train, ]\n",
        "  )\n",
        "\n",
        "# Vorhersagen werden auf dem Test-Datensatz berechnet\n",
        "rf_m2_preds <- broom::augment(\n",
        "  x = rf_m2, new_data = dataset_reg[data_splits$test, ]\n",
        ")\n"
      ],
      "execution_count": null,
      "outputs": []
    },
    {
      "cell_type": "code",
      "metadata": {},
      "source": [
        "#| echo: true\n",
        "# RMSE\n",
        "yardstick::rmse(\n",
        "  data = rf_m2_preds,\n",
        "  truth = SYSBP,\n",
        "  estimate = .pred\n",
        ")\n"
      ],
      "execution_count": null,
      "outputs": []
    },
    {
      "cell_type": "code",
      "metadata": {},
      "source": [
        "#| echo: true\n",
        "# Variable importance: \"impurity\"\n",
        "reg_rf_spec_vip_imp <- rf_spec |>\n",
        "  parsnip::set_args(replace = FALSE, importance = \"impurity\") |>\n",
        "  parsnip::set_mode(\"regression\")\n",
        "\n",
        "rf_m2_vip_imp <- reg_rf_spec_vip_imp |>\n",
        "  parsnip::fit( SYSBP ~ ., data = dataset_reg[data_splits$train, ])\n",
        "\n",
        "# Variable importance: \"permutation\"\n",
        "reg_rf_spec_vip_perm <- rf_spec |>\n",
        "  parsnip::set_args(replace = FALSE, importance = \"permutation\") |>\n",
        "  parsnip::set_mode(\"regression\")\n",
        "\n",
        "rf_m2_vip_perm <- reg_rf_spec_vip_perm |>\n",
        "  parsnip::fit(SYSBP ~ ., data = dataset_reg[data_splits$train, ])\n"
      ],
      "execution_count": null,
      "outputs": []
    },
    {
      "cell_type": "code",
      "metadata": {
        "fig-width": 5,
        "fig-height": 4
      },
      "source": [
        "#| echo: true\n",
        "#| out-width: 100%\n",
        "#| fig-align: center\n",
        "vip::vip(rf_m2_vip_imp) +\n",
        "  ggplot2::ggtitle(\n",
        "    \"Variable Importance: 'impurity'\",\n",
        "    subtitle = \"Random Forest\"\n",
        "  )\n"
      ],
      "execution_count": null,
      "outputs": []
    },
    {
      "cell_type": "code",
      "metadata": {
        "fig-width": 5,
        "fig-height": 4
      },
      "source": [
        "#| echo: true\n",
        "#| out-width: 100%\n",
        "#| fig-align: center\n",
        "vip::vip(rf_m2_vip_perm) +\n",
        "  ggplot2::ggtitle(\n",
        "    \"Variable Importance: 'permutation'\",\n",
        "    subtitle = \"Random Forest\"\n",
        "  )\n"
      ],
      "execution_count": null,
      "outputs": []
    },
    {
      "cell_type": "code",
      "metadata": {},
      "source": [
        "#| echo: false\n",
        "#| eval: false\n",
        "# # Prediction wrapper\n",
        "# pfun <- function(object, newdata) {\n",
        "#   # muss einen numerischen Vektor zurückgeben\n",
        "#   as.vector(kernlab::predict(object, newdata))\n",
        "# }\n",
        "# # Berechnung der Shapley-Werte\n",
        "# s <- fastshap::explain(\n",
        "#   object = parsnip::extract_fit_engine(svm_m2),\n",
        "#   X = subset(dataset_reg[data_splits$train, ], select = -SYSBP),\n",
        "#   newdata = subset(dataset_reg[data_splits$test, ], select = -SYSBP),\n",
        "#   pred_wrapper = pfun, nsim = 1\n",
        "# )\n",
        "# # Erzeugen des Visualisierungs-Objects\n",
        "# shap_freq <- shapviz::shapviz(object = s, X = dataset_reg[data_splits$test, ])\n"
      ],
      "execution_count": null,
      "outputs": []
    },
    {
      "cell_type": "code",
      "metadata": {},
      "source": [
        "#| echo: true\n",
        "# Prediction wrapper\n",
        "pfun <- function(object, newdata) {\n",
        "  # muss einen numerischen Vektor zurückgeben\n",
        "  as.vector(predict(object, newdata))$predictions\n",
        "}\n",
        "# Berechnung der Shapley-Werte für Random Forest\n",
        "s <- fastshap::explain(\n",
        "  object = parsnip::extract_fit_engine(rf_m2),\n",
        "  X = subset(dataset_reg[data_splits$train, ], select = -SYSBP),\n",
        "  newdata = subset(dataset_reg[data_splits$test, ], select = -SYSBP),\n",
        "  pred_wrapper = pfun, nsim = 1\n",
        ")\n",
        "# Erzeugen des Visualisierungs-Objects\n",
        "shap_freq <- shapviz::shapviz(object = s, X = dataset_reg[data_splits$test, ])\n"
      ],
      "execution_count": null,
      "outputs": []
    },
    {
      "cell_type": "code",
      "metadata": {
        "fig-width": 8,
        "fig-height": 5
      },
      "source": [
        "#| echo: true\n",
        "#| out-width: 80%\n",
        "#| fig-align: center\n",
        "shapviz::sv_importance(shap_freq)\n"
      ],
      "execution_count": null,
      "outputs": []
    },
    {
      "cell_type": "code",
      "metadata": {
        "fig-width": 8,
        "fig-height": 5
      },
      "source": [
        "#| echo: true\n",
        "#| out-width: 80%\n",
        "#| fig-align: center\n",
        "shapviz::sv_importance(shap_freq, kind = \"bee\")\n"
      ],
      "execution_count": null,
      "outputs": []
    },
    {
      "cell_type": "code",
      "metadata": {
        "fig-width": 8,
        "fig-height": 5
      },
      "source": [
        "#| echo: true\n",
        "#| out-width: 80%\n",
        "#| fig-align: center\n",
        "shapviz::sv_dependence(shap_freq, v = colnames(dataset_reg)[c(1:3, 5:7)])"
      ],
      "execution_count": null,
      "outputs": []
    }
  ],
  "metadata": {
    "kernelspec": {
      "name": "ir",
      "language": "R",
      "display_name": "R",
      "path": "/home/user/.local/share/jupyter/kernels/ir"
    }
  },
  "nbformat": 4,
  "nbformat_minor": 4
}