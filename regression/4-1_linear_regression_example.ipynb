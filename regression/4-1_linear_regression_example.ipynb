{
  "cells": [
    {
      "cell_type": "raw",
      "metadata": {},
      "source": [
        "---\n",
        "title: Logistische Regression\n",
        "---"
      ]
    },
    {
      "cell_type": "markdown",
      "metadata": {},
      "source": [
        "title: \"Logistische Regression\"\n",
        "jupyter: ir\n",
        "---\n"
      ]
    },
    {
      "cell_type": "code",
      "metadata": {
        "results": "hide"
      },
      "source": [
        "#| include: false\n",
        "req_pkg <- c(\"MedDataSets\", \"data.table\", \"performance\", \"tinyplot\")\n",
        "for (r in req_pkg) {\n",
        "  if (!(r %in% installed.packages()[, \"Package\"])) {\n",
        "    install.packages(r)\n",
        "  }\n",
        "}\n"
      ],
      "execution_count": null,
      "outputs": []
    },
    {
      "cell_type": "code",
      "metadata": {},
      "source": [
        "library(MedDataSets); data(\"bdims_tbl_df\")\n",
        "dataset <- bdims_tbl_df |> data.table::data.table() # Daten einlesen\n",
        "use_cols <- c(\"age\", \"wgt\", \"hgt\", \"sex\") # Relevante Spalten definieren\n",
        "# Relevante Spalten filntern, Ausreißer und fehlende Werte entfernen\n",
        "dataset <- dataset[hgt < 187 & wgt < 100, .SD, .SDcols = use_cols] |> na.omit();\n",
        "dataset[, (\"sex\") := as.factor(sex)] # Datentyp ändern\n",
        "\n",
        "str(dataset) # Übersicht über den Datensatz\n"
      ],
      "execution_count": null,
      "outputs": []
    },
    {
      "cell_type": "code",
      "metadata": {},
      "source": [
        "# Ausgabe der ersten 10 Zeilen\n",
        "dataset[1:10, ]\n"
      ],
      "execution_count": null,
      "outputs": []
    },
    {
      "cell_type": "code",
      "metadata": {},
      "source": [
        "#| out-width: 80%\n",
        "#| fig-align: center\n",
        "library(tinyplot)\n",
        "tinyplot(hgt ~ wgt, data = dataset)\n",
        "# cor(dataset$hgt, dataset$wgt) |> round(2) # -> 0.69\n"
      ],
      "execution_count": null,
      "outputs": []
    },
    {
      "cell_type": "code",
      "metadata": {},
      "source": [
        "m1 <- lm(hgt ~ wgt, data = dataset)\n",
        "m1\n"
      ],
      "execution_count": null,
      "outputs": []
    },
    {
      "cell_type": "code",
      "metadata": {},
      "source": [
        "summary(m1)\n"
      ],
      "execution_count": null,
      "outputs": []
    },
    {
      "cell_type": "code",
      "metadata": {},
      "source": [
        "#| out-width: 80%\n",
        "#| fig-align: center\n",
        "tinyplot(hgt ~ wgt, data = dataset, palette = \"Okabe-Ito\",\n",
        "         main = \"Körpergröße in Abhängigkeit des Körpergewichts\")\n",
        "tinyplot(hgt ~ wgt, data = dataset, palette = \"dark3\",\n",
        "         type = \"lm\", add = TRUE)\n"
      ],
      "execution_count": null,
      "outputs": []
    },
    {
      "cell_type": "code",
      "metadata": {},
      "source": [
        "# RMSE\n",
        "sigma(m1)\n"
      ],
      "execution_count": null,
      "outputs": []
    },
    {
      "cell_type": "code",
      "metadata": {},
      "source": [
        "# MSE\n",
        "sigma(m1)^2\n"
      ],
      "execution_count": null,
      "outputs": []
    },
    {
      "cell_type": "code",
      "metadata": {},
      "source": [
        "#| out-width: 80%\n",
        "#| fig-align: center\n",
        "res1 <- residuals(m1)\n",
        "tinyplot(dataset$hgt[order(dataset$hgt)], res1[order(dataset$hgt)],\n",
        "         xlab = \"Height\", ylab = \"Residuals\")\n"
      ],
      "execution_count": null,
      "outputs": []
    },
    {
      "cell_type": "code",
      "metadata": {},
      "source": [
        "#| out-width: 80%\n",
        "#| fig-align: center\n",
        "res2 <- dataset$hgt - predict(m1, dataset)\n",
        "tinyplot(dataset$hgt[order(dataset$hgt)], res2[order(dataset$hgt)],\n",
        "         xlab = \"Height\", ylab = \"Residuals\")\n"
      ],
      "execution_count": null,
      "outputs": []
    },
    {
      "cell_type": "code",
      "metadata": {},
      "source": [
        "#| out-width: 80%\n",
        "#| fig-align: center\n",
        "m2 <- lm(hgt ~ wgt + sex, data = dataset)\n",
        "\n",
        "res3 <- residuals(m2)\n",
        "tinyplot(dataset$hgt[order(dataset$hgt)], res3[order(dataset$hgt)],\n",
        "         xlab = \"Height\", ylab = \"Residuals\")\n"
      ],
      "execution_count": null,
      "outputs": []
    },
    {
      "cell_type": "code",
      "metadata": {},
      "source": [
        "summary(m2)\n"
      ],
      "execution_count": null,
      "outputs": []
    },
    {
      "cell_type": "code",
      "metadata": {},
      "source": [
        "# die \"residual sum of squares\" beträgt:\n",
        "(dataset$hgt - predict(m2, dataset))^2 |>\n",
        "  sum()\n",
        "\n",
        "# bzw.\n",
        "deviance(m2)\n"
      ],
      "execution_count": null,
      "outputs": []
    },
    {
      "cell_type": "code",
      "metadata": {},
      "source": [
        "# das Hinzufügen des Geschlechts hat\n",
        "# eine leichte Verbesserung gegenüber\n",
        "# dem ersten Modell gebracht:\n",
        "deviance(m1)\n"
      ],
      "execution_count": null,
      "outputs": []
    },
    {
      "cell_type": "code",
      "metadata": {},
      "source": [
        "#| out-width: 80%\n",
        "#| fig-align: center\n",
        "tinyplot(hgt ~ wgt | sex, data = dataset,\n",
        "  facet = \"by\", palette = \"Okabe-Ito\",\n",
        "  main = \"Actual and Predicted Height\")\n",
        "tinyplot(hgt ~ wgt | sex, data = dataset,\n",
        "  facet = \"by\", palette = \"dark3\", type = \"lm\", add = TRUE)\n"
      ],
      "execution_count": null,
      "outputs": []
    },
    {
      "cell_type": "code",
      "metadata": {},
      "source": [
        "# 95%-Konfidenzintervalle\n",
        "confint(m1, level = 0.95)\n"
      ],
      "execution_count": null,
      "outputs": []
    },
    {
      "cell_type": "code",
      "metadata": {},
      "source": [
        "m3 <- lm(hgt ~ sex, data = dataset)\n",
        "summary(m3)\n"
      ],
      "execution_count": null,
      "outputs": []
    },
    {
      "cell_type": "code",
      "metadata": {},
      "source": [
        "anova(m3)\n"
      ],
      "execution_count": null,
      "outputs": []
    },
    {
      "cell_type": "code",
      "metadata": {},
      "source": [
        "anova(m1, m2)\n"
      ],
      "execution_count": null,
      "outputs": []
    },
    {
      "cell_type": "code",
      "metadata": {},
      "source": [
        "plot(performance::check_model(\n",
        "  m1, panel = FALSE, check = \"ncv\"\n",
        "))\n"
      ],
      "execution_count": null,
      "outputs": []
    },
    {
      "cell_type": "code",
      "metadata": {},
      "source": [
        "plot(performance::check_model(\n",
        "  m1, panel = FALSE, check = \"qq\"\n",
        "))"
      ],
      "execution_count": null,
      "outputs": []
    }
  ],
  "metadata": {
    "kernelspec": {
      "name": "ir",
      "language": "R",
      "display_name": "R",
      "path": "/home/user/.local/share/jupyter/kernels/ir"
    }
  },
  "nbformat": 4,
  "nbformat_minor": 4
}