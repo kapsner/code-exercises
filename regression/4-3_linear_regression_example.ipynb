{
  "cells": [
    {
      "cell_type": "markdown",
      "metadata": {},
      "source": [
        "---\n",
        "title: \"Lineare Regression\"\n",
        "jupyter: ir\n",
        "---\n"
      ]
    },
    {
      "cell_type": "code",
      "execution_count": null,
      "metadata": {
        "results": "hide"
      },
      "outputs": [],
      "source": [
        "#| include: false\n",
        "req_pkg <- c(\"MedDataSets\", \"data.table\", \"performance\", \"tinyplot\", \"see\")\n",
        "for (r in req_pkg) {\n",
        "  if (!(r %in% installed.packages()[, \"Package\"])) {\n",
        "    install.packages(r)\n",
        "  }\n",
        "}\n"
      ]
    },
    {
      "cell_type": "code",
      "execution_count": null,
      "metadata": {},
      "outputs": [],
      "source": [
        "library(MedDataSets); data(\"bdims_tbl_df\")\n",
        "dataset <- bdims_tbl_df |> data.table::data.table() # Daten einlesen\n",
        "use_cols <- c(\"age\", \"wgt\", \"hgt\", \"sex\") # Relevante Spalten definieren\n",
        "# Relevante Spalten filtern, Ausreißer und fehlende Werte entfernen\n",
        "dataset <- dataset[hgt < 187 & wgt < 100, .SD, .SDcols = use_cols] |> na.omit();\n",
        "dataset[, (\"sex\") := as.factor(sex)] # Datentyp ändern\n",
        "\n",
        "str(dataset) # Übersicht über den Datensatz\n"
      ]
    },
    {
      "cell_type": "code",
      "execution_count": null,
      "metadata": {},
      "outputs": [],
      "source": [
        "# Ausgabe der ersten 10 Zeilen\n",
        "dataset[1:10, ]\n"
      ]
    },
    {
      "cell_type": "code",
      "execution_count": null,
      "metadata": {},
      "outputs": [],
      "source": [
        "#| out-width: 80%\n",
        "#| fig-align: center\n",
        "library(tinyplot)\n",
        "tinyplot(hgt ~ wgt, data = dataset)\n",
        "# cor(dataset$hgt, dataset$wgt) |> round(2) # -> 0.69\n"
      ]
    },
    {
      "cell_type": "code",
      "execution_count": null,
      "metadata": {},
      "outputs": [],
      "source": [
        "m1 <- lm(hgt ~ wgt, data = dataset)\n",
        "m1\n"
      ]
    },
    {
      "cell_type": "code",
      "execution_count": null,
      "metadata": {},
      "outputs": [],
      "source": [
        "summary(m1)\n"
      ]
    },
    {
      "cell_type": "code",
      "execution_count": null,
      "metadata": {},
      "outputs": [],
      "source": [
        "#| out-width: 80%\n",
        "#| fig-align: center\n",
        "tinyplot(hgt ~ wgt, data = dataset, palette = \"Okabe-Ito\",\n",
        "         main = \"Körpergröße in Abhängigkeit des Körpergewichts\")\n",
        "tinyplot(hgt ~ wgt, data = dataset, palette = \"dark3\",\n",
        "         type = \"lm\", add = TRUE)\n"
      ]
    },
    {
      "cell_type": "code",
      "execution_count": null,
      "metadata": {},
      "outputs": [],
      "source": [
        "# RMSE\n",
        "sigma(m1)\n"
      ]
    },
    {
      "cell_type": "code",
      "execution_count": null,
      "metadata": {},
      "outputs": [],
      "source": [
        "# MSE\n",
        "sigma(m1)^2\n"
      ]
    },
    {
      "cell_type": "code",
      "execution_count": null,
      "metadata": {},
      "outputs": [],
      "source": [
        "#| out-width: 80%\n",
        "#| fig-align: center\n",
        "res1 <- residuals(m1)\n",
        "tinyplot(dataset$hgt[order(dataset$hgt)], res1[order(dataset$hgt)],\n",
        "         xlab = \"Height\", ylab = \"Residuals\")\n"
      ]
    },
    {
      "cell_type": "code",
      "execution_count": null,
      "metadata": {},
      "outputs": [],
      "source": [
        "#| out-width: 80%\n",
        "#| fig-align: center\n",
        "res2 <- dataset$hgt - predict(m1, dataset)\n",
        "tinyplot(dataset$hgt[order(dataset$hgt)], res2[order(dataset$hgt)],\n",
        "         xlab = \"Height\", ylab = \"Residuals\")\n"
      ]
    },
    {
      "cell_type": "code",
      "execution_count": null,
      "metadata": {},
      "outputs": [],
      "source": [
        "#| out-width: 80%\n",
        "#| fig-align: center\n",
        "m2 <- lm(hgt ~ wgt + sex, data = dataset)\n",
        "\n",
        "res3 <- residuals(m2)\n",
        "tinyplot(dataset$hgt[order(dataset$hgt)], res3[order(dataset$hgt)],\n",
        "         xlab = \"Height\", ylab = \"Residuals\")\n"
      ]
    },
    {
      "cell_type": "code",
      "execution_count": null,
      "metadata": {},
      "outputs": [],
      "source": [
        "summary(m2)\n"
      ]
    },
    {
      "cell_type": "code",
      "execution_count": null,
      "metadata": {},
      "outputs": [],
      "source": [
        "# die \"residual sum of squares\" beträgt:\n",
        "(dataset$hgt - predict(m2, dataset))^2 |>\n",
        "  sum()\n",
        "\n",
        "# bzw.\n",
        "deviance(m2)\n"
      ]
    },
    {
      "cell_type": "code",
      "execution_count": null,
      "metadata": {},
      "outputs": [],
      "source": [
        "# das Hinzufügen des Geschlechts hat\n",
        "# eine leichte Verbesserung gegenüber\n",
        "# dem ersten Modell gebracht:\n",
        "deviance(m1)\n"
      ]
    },
    {
      "cell_type": "code",
      "execution_count": null,
      "metadata": {},
      "outputs": [],
      "source": [
        "#| out-width: 80%\n",
        "#| fig-align: center\n",
        "tinyplot(hgt ~ wgt | sex, data = dataset,\n",
        "  facet = \"by\", palette = \"Okabe-Ito\",\n",
        "  main = \"Actual and Predicted Height\")\n",
        "tinyplot(hgt ~ wgt | sex, data = dataset,\n",
        "  facet = \"by\", palette = \"dark3\", type = \"lm\", add = TRUE)\n"
      ]
    },
    {
      "cell_type": "code",
      "execution_count": null,
      "metadata": {},
      "outputs": [],
      "source": [
        "# 95%-Konfidenzintervalle\n",
        "confint(m1, level = 0.95)\n"
      ]
    },
    {
      "cell_type": "code",
      "execution_count": null,
      "metadata": {},
      "outputs": [],
      "source": [
        "m3 <- lm(hgt ~ sex, data = dataset)\n",
        "summary(m3)\n"
      ]
    },
    {
      "cell_type": "code",
      "execution_count": null,
      "metadata": {},
      "outputs": [],
      "source": [
        "anova(m3)\n"
      ]
    },
    {
      "cell_type": "code",
      "execution_count": null,
      "metadata": {},
      "outputs": [],
      "source": [
        "anova(m1, m2)\n"
      ]
    },
    {
      "cell_type": "code",
      "execution_count": null,
      "metadata": {},
      "outputs": [],
      "source": [
        "plot(performance::check_model(\n",
        "  m1, panel = FALSE, check = \"ncv\"\n",
        "))\n"
      ]
    },
    {
      "cell_type": "code",
      "execution_count": null,
      "metadata": {},
      "outputs": [],
      "source": [
        "plot(performance::check_model(\n",
        "  m1, panel = FALSE, check = \"qq\"\n",
        "))"
      ]
    }
  ],
  "metadata": {
    "kernelspec": {
      "display_name": "R",
      "language": "R",
      "name": "ir",
      "path": "/home/user/.local/share/jupyter/kernels/ir"
    }
  },
  "nbformat": 4,
  "nbformat_minor": 4
}
