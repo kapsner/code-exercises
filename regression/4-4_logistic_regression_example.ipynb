{
  "cells": [
    {
      "cell_type": "markdown",
      "metadata": {},
      "source": [
        "---\n",
        "title: \"Logistische Regression\"\n",
        "jupyter: ir\n",
        "---\n"
      ]
    },
    {
      "cell_type": "code",
      "metadata": {
        "results": "hide"
      },
      "source": [
        "#| include: false\n",
        "req_pkg <- c(\"MedDataSets\", \"data.table\", \"performance\", \"tinyplot\", \"see\")\n",
        "for (r in req_pkg) {\n",
        "  if (!(r %in% installed.packages()[, \"Package\"])) {\n",
        "    install.packages(r)\n",
        "  }\n",
        "}\n"
      ],
      "execution_count": null,
      "outputs": []
    },
    {
      "cell_type": "code",
      "metadata": {},
      "source": [
        "library(MedDataSets); data(\"Pima_te_df\")\n",
        "dataset <- Pima_te_df |> data.table::data.table() # Daten einlesen\n",
        "use_cols <- c(\"glu\", \"bmi\", \"age\", \"type\") # Relevante Spalten definieren\n",
        "# Relevante Spalten filtern, fehlende Werte entfernen\n",
        "dataset <- dataset[, .SD, .SDcols = use_cols] |> na.omit();\n",
        "dataset[, (\"type\") := factor(type, levels = c(\"No\", \"Yes\"), labels = c(\"0\", \"1\"))] # Datentyp ändern\n",
        "\n",
        "str(dataset) # Übersicht über den Datensatz\n"
      ],
      "execution_count": null,
      "outputs": []
    },
    {
      "cell_type": "code",
      "metadata": {},
      "source": [
        "# Ausgabe der ersten 10 Zeilen\n",
        "dataset[1:10, ]\n"
      ],
      "execution_count": null,
      "outputs": []
    },
    {
      "cell_type": "code",
      "metadata": {},
      "source": [
        "#| out-width: 80%\n",
        "#| fig-align: center\n",
        "library(tinyplot)\n",
        "tinyplot(as.numeric(as.character(type)) ~ glu, data = dataset, palette = \"Okabe-Ito\",\n",
        "         ylab = \"Predicted Probability of Diabetes\")\n"
      ],
      "execution_count": null,
      "outputs": []
    },
    {
      "cell_type": "code",
      "metadata": {},
      "source": [
        "#| out-width: 70%\n",
        "#| fig-align: center\n",
        "m1 = glm(as.numeric(as.character(type)) ~ glu, data = dataset, family = \"binomial\")\n",
        "# Simuliere Sequenz mit 100 Datenpunkten im Glukose-Wertebereich\n",
        "newdat <- data.frame(glu = seq(min(dataset$glu), max(dataset$glu), len = 100))\n",
        "newdat$type_m1 = predict(m1, newdata = newdat, type = \"response\") # Vorhersage logistische Regression\n",
        "\n",
        "library(tinyplot)\n",
        "tinyplot(as.numeric(as.character(type)) ~ glu, data = dataset, palette = \"Okabe-Ito\",\n",
        "         ylab = \"Predicted Probability of Diabetes\")\n",
        "lines(type_m1 ~ glu, data = newdat, col = \"red\", lwd = 2)\n"
      ],
      "execution_count": null,
      "outputs": []
    },
    {
      "cell_type": "code",
      "metadata": {},
      "source": [
        "#| out-width: 70%\n",
        "#| fig-align: center\n",
        "m0 = lm(as.numeric(as.character(type)) ~ glu, data = dataset)\n",
        "newdat$type_m0 = predict(m0, newdata = newdat, type = \"response\") # Vorhersage lineare Regression\n",
        "tinyplot(as.numeric(as.character(type)) ~ glu, data = dataset, palette = \"Okabe-Ito\",\n",
        "         ylab = \"Predicted Probability of Diabetes\", main = \"Lineare (blau) vs. logistische (rot) Regression\")\n",
        "lines(type_m0 ~ glu, data = newdat, col = \"blue\", lwd = 2)\n",
        "lines(type_m1 ~ glu, data = newdat, col = \"red\", lwd = 2)\n"
      ],
      "execution_count": null,
      "outputs": []
    },
    {
      "cell_type": "code",
      "metadata": {},
      "source": [
        "#| out-width: 70%\n",
        "#| fig-align: center\n",
        "prob_to_odds <- function(prob) {odds <- prob / (1 - prob); return(odds)} # Odds-Berechnung\n",
        "# Logit [--> `log(odds)`] aus den vorhergesagten Wahrscheinlichkeiten berechnen\n",
        "newdat$type_m1_logit <- newdat$type_m1 |> prob_to_odds() |> log()\n",
        "# Zur Visualisierung im Plot wird der Logit zwischen 0 und 1 skaliert\n",
        "minmax <- function(x) {(x - min(x)) / (max(x) - min(x))}\n",
        "newdat$type_m1_logit_norm <- newdat$type_m1_logit |> minmax()\n",
        "tinyplot(as.numeric(as.character(type)) ~ glu, data = dataset, palette = \"Okabe-Ito\",\n",
        "         ylab = \"Predicted Probability of Diabetes\", main = \"ln(Odds)\")\n",
        "lines(type_m1_logit_norm ~ glu, data = newdat, col = \"red\", lwd = 2)\n"
      ],
      "execution_count": null,
      "outputs": []
    },
    {
      "cell_type": "code",
      "metadata": {},
      "source": [
        "summary(m1)\n"
      ],
      "execution_count": null,
      "outputs": []
    },
    {
      "cell_type": "code",
      "metadata": {},
      "source": [
        "# 95%-CI Koeffizienten\n",
        "confint(m1, level = 0.95)\n"
      ],
      "execution_count": null,
      "outputs": []
    },
    {
      "cell_type": "code",
      "metadata": {},
      "source": [
        "# 95%-CI Odds-Ratio\n",
        "exp(confint(m1, level = 0.95))\n"
      ],
      "execution_count": null,
      "outputs": []
    },
    {
      "cell_type": "code",
      "metadata": {},
      "source": [
        "m2 = glm(as.numeric(as.character(type)) ~ glu + bmi, data = dataset, family = \"binomial\")\n",
        "# Simuliere Sequenz mit 100 BMI-Werten, diese müssen zu neuen Daten ergänzt werden\n",
        "newdat$bmi <- seq(min(dataset$bmi), max(dataset$bmi), len = 100)\n",
        "newdat$type_m2 = predict(m2, newdata = newdat, type = \"response\")\n"
      ],
      "execution_count": null,
      "outputs": []
    },
    {
      "cell_type": "code",
      "metadata": {},
      "source": [
        "summary(m2)\n"
      ],
      "execution_count": null,
      "outputs": []
    },
    {
      "cell_type": "code",
      "metadata": {},
      "source": [
        "# Odds ratio\n",
        "exp(coef(m2))\n"
      ],
      "execution_count": null,
      "outputs": []
    },
    {
      "cell_type": "code",
      "metadata": {},
      "source": [
        "# 95%-CI Odds ratio\n",
        "exp(confint(m2, level = 0.95))\n"
      ],
      "execution_count": null,
      "outputs": []
    },
    {
      "cell_type": "code",
      "metadata": {},
      "source": [
        "#| out-width: 70%\n",
        "#| fig-align: center\n",
        "# Vergleich zweier binärer Klassifikatoren mittels ROC-Kurve\n",
        "# Um ein Overfitting zu vermeiden, teilen wir den Datensatz in\n",
        "# 75% Trainingsdaten und 25% Testdaten\n",
        "folds <- sample(nrow(dataset), size = nrow(dataset) * 0.25, replace = FALSE)\n",
        "train_data <- dataset[-folds, ]\n",
        "test_data <- dataset[folds, ]\n",
        "# Die zwei Modelle (einfache / multiple LR) werden nun auf den Trainingsdaten trainiert\n",
        "m3 <- glm(as.numeric(as.character(type)) ~ glu, data = train_data, family = \"binomial\")\n",
        "m4 <- glm(as.numeric(as.character(type)) ~ glu + bmi, data = train_data, family = \"binomial\")\n",
        "# Die ROC-Kurve wird auf dem Test-Datensatz berechnet\n",
        "roc <- performance::performance_roc(m3, m4, new_data = test_data)\n",
        "plot(roc)"
      ],
      "execution_count": null,
      "outputs": []
    }
  ],
  "metadata": {
    "kernelspec": {
      "name": "ir",
      "language": "R",
      "display_name": "R",
      "path": "/home/user/.local/share/jupyter/kernels/ir"
    }
  },
  "nbformat": 4,
  "nbformat_minor": 4
}